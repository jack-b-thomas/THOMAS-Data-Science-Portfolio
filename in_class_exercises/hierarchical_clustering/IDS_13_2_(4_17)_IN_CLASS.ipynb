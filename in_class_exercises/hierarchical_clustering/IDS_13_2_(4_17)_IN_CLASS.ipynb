{
  "cells": [
    {
      "cell_type": "markdown",
      "metadata": {
        "id": "-HTAFNtaHxXn"
      },
      "source": [
        "# Unsupervised Learning with Hierarchical Clustering  \n",
        "### What will we learn?\n",
        "* The intuition behind hierarchical (agglomerative) clustering and the Ward linkage.  \n",
        "* How to read a dendrogram and decide on an appropriate number of clusters.  \n",
        "* Practical data‑preprocessing steps (selecting numeric columns, scaling).  \n",
        "* Dimensionality reduction with PCA for 2‑D exploratory plots.  \n",
        "* Communicating cluster insights on a world map."
      ]
    },
    {
      "cell_type": "markdown",
      "metadata": {
        "id": "tEGfGetsSXhk"
      },
      "source": [
        "### Part 1: Loading the Country‑Level Indicator Data  \n",
        "We will use the *“Country‑data.csv”* file from Kaggle  \n",
        "(<https://www.kaggle.com/datasets/rohan0301/unsupervised-learning-on-country-data>).  \n",
        "Each row represents a country and each column an economic or health indicator (e.g., GDP per capita, child mortality).  "
      ]
    },
    {
      "cell_type": "code",
      "execution_count": 2,
      "metadata": {
        "id": "jiUWHSK_JAYk"
      },
      "outputs": [
        {
          "name": "stdout",
          "output_type": "stream",
          "text": [
            "Warning: Looks like you're using an outdated `kagglehub` version (installed: 0.3.9), please consider upgrading to the latest version (0.3.11).\n",
            "Path to dataset files: /Users/jackthomas/.cache/kagglehub/datasets/rohan0301/unsupervised-learning-on-country-data/versions/2\n"
          ]
        }
      ],
      "source": [
        "import kagglehub\n",
        "\n",
        "# Download latest version\n",
        "path = kagglehub.dataset_download(\"rohan0301/unsupervised-learning-on-country-data\")\n",
        "\n",
        "print(\"Path to dataset files:\", path)"
      ]
    },
    {
      "cell_type": "code",
      "execution_count": 3,
      "metadata": {
        "id": "iSFVVS_oJIc8"
      },
      "outputs": [
        {
          "data": {
            "text/html": [
              "<div>\n",
              "<style scoped>\n",
              "    .dataframe tbody tr th:only-of-type {\n",
              "        vertical-align: middle;\n",
              "    }\n",
              "\n",
              "    .dataframe tbody tr th {\n",
              "        vertical-align: top;\n",
              "    }\n",
              "\n",
              "    .dataframe thead th {\n",
              "        text-align: right;\n",
              "    }\n",
              "</style>\n",
              "<table border=\"1\" class=\"dataframe\">\n",
              "  <thead>\n",
              "    <tr style=\"text-align: right;\">\n",
              "      <th></th>\n",
              "      <th>country</th>\n",
              "      <th>child_mort</th>\n",
              "      <th>exports</th>\n",
              "      <th>health</th>\n",
              "      <th>imports</th>\n",
              "      <th>income</th>\n",
              "      <th>inflation</th>\n",
              "      <th>life_expec</th>\n",
              "      <th>total_fer</th>\n",
              "      <th>gdpp</th>\n",
              "    </tr>\n",
              "  </thead>\n",
              "  <tbody>\n",
              "    <tr>\n",
              "      <th>0</th>\n",
              "      <td>Afghanistan</td>\n",
              "      <td>90.2</td>\n",
              "      <td>10.0</td>\n",
              "      <td>7.58</td>\n",
              "      <td>44.9</td>\n",
              "      <td>1610</td>\n",
              "      <td>9.44</td>\n",
              "      <td>56.2</td>\n",
              "      <td>5.82</td>\n",
              "      <td>553</td>\n",
              "    </tr>\n",
              "    <tr>\n",
              "      <th>1</th>\n",
              "      <td>Albania</td>\n",
              "      <td>16.6</td>\n",
              "      <td>28.0</td>\n",
              "      <td>6.55</td>\n",
              "      <td>48.6</td>\n",
              "      <td>9930</td>\n",
              "      <td>4.49</td>\n",
              "      <td>76.3</td>\n",
              "      <td>1.65</td>\n",
              "      <td>4090</td>\n",
              "    </tr>\n",
              "    <tr>\n",
              "      <th>2</th>\n",
              "      <td>Algeria</td>\n",
              "      <td>27.3</td>\n",
              "      <td>38.4</td>\n",
              "      <td>4.17</td>\n",
              "      <td>31.4</td>\n",
              "      <td>12900</td>\n",
              "      <td>16.10</td>\n",
              "      <td>76.5</td>\n",
              "      <td>2.89</td>\n",
              "      <td>4460</td>\n",
              "    </tr>\n",
              "    <tr>\n",
              "      <th>3</th>\n",
              "      <td>Angola</td>\n",
              "      <td>119.0</td>\n",
              "      <td>62.3</td>\n",
              "      <td>2.85</td>\n",
              "      <td>42.9</td>\n",
              "      <td>5900</td>\n",
              "      <td>22.40</td>\n",
              "      <td>60.1</td>\n",
              "      <td>6.16</td>\n",
              "      <td>3530</td>\n",
              "    </tr>\n",
              "    <tr>\n",
              "      <th>4</th>\n",
              "      <td>Antigua and Barbuda</td>\n",
              "      <td>10.3</td>\n",
              "      <td>45.5</td>\n",
              "      <td>6.03</td>\n",
              "      <td>58.9</td>\n",
              "      <td>19100</td>\n",
              "      <td>1.44</td>\n",
              "      <td>76.8</td>\n",
              "      <td>2.13</td>\n",
              "      <td>12200</td>\n",
              "    </tr>\n",
              "  </tbody>\n",
              "</table>\n",
              "</div>"
            ],
            "text/plain": [
              "               country  child_mort  exports  health  imports  income  \\\n",
              "0          Afghanistan        90.2     10.0    7.58     44.9    1610   \n",
              "1              Albania        16.6     28.0    6.55     48.6    9930   \n",
              "2              Algeria        27.3     38.4    4.17     31.4   12900   \n",
              "3               Angola       119.0     62.3    2.85     42.9    5900   \n",
              "4  Antigua and Barbuda        10.3     45.5    6.03     58.9   19100   \n",
              "\n",
              "   inflation  life_expec  total_fer   gdpp  \n",
              "0       9.44        56.2       5.82    553  \n",
              "1       4.49        76.3       1.65   4090  \n",
              "2      16.10        76.5       2.89   4460  \n",
              "3      22.40        60.1       6.16   3530  \n",
              "4       1.44        76.8       2.13  12200  "
            ]
          },
          "execution_count": 3,
          "metadata": {},
          "output_type": "execute_result"
        }
      ],
      "source": [
        "import pandas as pd\n",
        "import numpy as np\n",
        "import matplotlib.pyplot as plt\n",
        "import os\n",
        "\n",
        "# Assuming your CSV file is named 'Country-data.csv'\n",
        "# and is located inside the downloaded directory\n",
        "file_path = os.path.join(path, 'Country-data.csv')\n",
        "\n",
        "# Now read the CSV file using the file_path\n",
        "data = pd.read_csv(file_path)\n",
        "data.head() # Print the first few rows of the DataFrame"
      ]
    },
    {
      "cell_type": "markdown",
      "metadata": {
        "id": "mv2jCW3SH6By"
      },
      "source": [
        "### Part 2: Feature Selection & Quick EDA\n",
        "* We keep only our features (e.g. everything but country names)."
      ]
    },
    {
      "cell_type": "code",
      "execution_count": 4,
      "metadata": {
        "id": "ECNEhuLHSu-L"
      },
      "outputs": [
        {
          "data": {
            "text/plain": [
              "array([[<Axes: title={'center': 'child_mort'}>,\n",
              "        <Axes: title={'center': 'exports'}>,\n",
              "        <Axes: title={'center': 'health'}>],\n",
              "       [<Axes: title={'center': 'imports'}>,\n",
              "        <Axes: title={'center': 'income'}>,\n",
              "        <Axes: title={'center': 'inflation'}>],\n",
              "       [<Axes: title={'center': 'life_expec'}>,\n",
              "        <Axes: title={'center': 'total_fer'}>,\n",
              "        <Axes: title={'center': 'gdpp'}>]], dtype=object)"
            ]
          },
          "execution_count": 4,
          "metadata": {},
          "output_type": "execute_result"
        },
        {
          "data": {
            "image/png": "[encoded data removed]",
            "text/plain": [
              "<Figure size 1200x800 with 9 Axes>"
            ]
          },
          "metadata": {},
          "output_type": "display_data"
        }
      ],
      "source": [
        "features_df = data.drop(columns= \"country\")\n",
        "\n",
        "# Optional sanity‑check visual\n",
        "features_df.hist(figsize = [12,8])"
      ]
    },
    {
      "cell_type": "markdown",
      "metadata": {
        "id": "zCR-y-pAU2mG"
      },
      "source": [
        "### Part 3: Standardize by Scaling\n",
        "- Hierarchical clustering uses Euclidean distance; indicators measured on different scales (GDP vs. fertility) would dominate the metric.  \n",
        "- We standardise to zero mean / unit variance using `StandardScaler`.  \n"
      ]
    },
    {
      "cell_type": "code",
      "execution_count": 5,
      "metadata": {
        "id": "SCiANpULU-am"
      },
      "outputs": [
        {
          "data": {
            "text/plain": [
              "array([[ 1.29153238, -1.13827979,  0.27908825, ..., -1.61909203,\n",
              "         1.90288227, -0.67917961],\n",
              "       [-0.5389489 , -0.47965843, -0.09701618, ...,  0.64786643,\n",
              "        -0.85997281, -0.48562324],\n",
              "       [-0.27283273, -0.09912164, -0.96607302, ...,  0.67042323,\n",
              "        -0.0384044 , -0.46537561],\n",
              "       ...,\n",
              "       [-0.37231541,  1.13030491,  0.0088773 , ...,  0.28695762,\n",
              "        -0.66120626, -0.63775406],\n",
              "       [ 0.44841668, -0.40647827, -0.59727159, ..., -0.34463279,\n",
              "         1.14094382, -0.63775406],\n",
              "       [ 1.11495062, -0.15034774, -0.33801514, ..., -2.09278484,\n",
              "         1.6246091 , -0.62954556]])"
            ]
          },
          "execution_count": 5,
          "metadata": {},
          "output_type": "execute_result"
        }
      ],
      "source": [
        "from sklearn.preprocessing import StandardScaler\n",
        "\n",
        "scaler = StandardScaler()\n",
        "X_scaled = scaler.fit_transform(features_df)\n",
        "X_scaled"
      ]
    },
    {
      "cell_type": "markdown",
      "metadata": {
        "id": "0MK5MY2uVDW5"
      },
      "source": [
        "### Part 5: Building the Hierarchical Tree\n",
        "* **Ward linkage** merges clusters that yield the *smallest* increase in total within‑cluster variance.  \n",
        "* The dendrogram gives us two insights:  \n",
        "  1. Similarity structure (who merges early).  \n",
        "  2. Reasonable cut heights (horizontal line) for k clusters.  \n",
        "We truncate to the last 30 merges to keep the plot readable.  "
      ]
    },
    {
      "cell_type": "code",
      "execution_count": 19,
      "metadata": {
        "id": "fIf3HAtbH6V7"
      },
      "outputs": [
        {
          "data": {
            "text/plain": [
              "Text(0, 0.5, 'Distance')"
            ]
          },
          "execution_count": 19,
          "metadata": {},
          "output_type": "execute_result"
        },
        {
          "data": {
            "image/png": "[encoded data removed]",
            "text/plain": [
              "<Figure size 2000x700 with 1 Axes>"
            ]
          },
          "metadata": {},
          "output_type": "display_data"
        }
      ],
      "source": [
        "from scipy.cluster.hierarchy import linkage, dendrogram\n",
        "\n",
        "# Standardize the numeric features (centering and scaling)\n",
        "z = linkage(X_scaled, method = \"ward\")\n",
        "country = data[\"country\"].to_list()\n",
        "\n",
        "\n",
        "plt.figure(figsize = [20,7])\n",
        "dendrogram(z,\n",
        "           labels= country,\n",
        "           truncate_mode=\"lastp\", # truncates the number of examples shown, comment out to see all countries\n",
        ")\n",
        "plt.title(\"Hierarchical Clustering Dendrogram (countries)\")\n",
        "plt.xlabel(\"Country\")\n",
        "plt.ylabel(\"Distance\")\n",
        "\n"
      ]
    },
    {
      "cell_type": "markdown",
      "metadata": {
        "id": "AHspX8ObaECi"
      },
      "source": [
        "### Part 6: Choosing k & Assigning Clusters\n",
        "After visually inspecting the dendrogram we select **k=3** (feel free to experiment).  \n",
        "Agglomerative clustering with the same linkage method produces integer labels we can append to the dataframe.  \n"
      ]
    },
    {
      "cell_type": "code",
      "execution_count": 45,
      "metadata": {
        "id": "3D1i01ZjH7E2"
      },
      "outputs": [],
      "source": [
        "from sklearn.cluster import AgglomerativeClustering\n",
        "\n",
        "# Select k and assigning cluster label with fit_predict()\n",
        "k = 5\n",
        "agg = AgglomerativeClustering(n_clusters=k,\n",
        "                              linkage=\"ward\")\n",
        "data[\"cluster\"] = agg.fit_predict(X_scaled)\n",
        "#data[\"cluster\"].value_counts()#number of countries in each cluster \n",
        "#data[data[\"cluster\"] == 3] #see which countries belong to which clusters "
      ]
    },
    {
      "cell_type": "markdown",
      "metadata": {
        "id": "sWxUfMVUapEe"
      },
      "source": [
        "### Part 7: Low‑Dimensional Insight with PCA\n",
        "**Note:** PCA is *only* for display; it was **not** used to fit the clusters.  "
      ]
    },
    {
      "cell_type": "code",
      "execution_count": 46,
      "metadata": {
        "id": "UC9Yh2GcIrva"
      },
      "outputs": [
        {
          "data": {
            "image/png": "[encoded data removed]",
            "text/plain": [
              "<Figure size 1000x700 with 1 Axes>"
            ]
          },
          "metadata": {},
          "output_type": "display_data"
        }
      ],
      "source": [
        "# Step 4: Visualize the Clustering Results Using PCA\n",
        "from sklearn.decomposition import PCA\n",
        "\n",
        "cluster_labels = data[\"cluster\"].to_list()\n",
        "# Reduce the dimensions for visualization (2D scatter plot)\n",
        "pca = PCA(n_components=2)\n",
        "X_pca = pca.fit_transform(X_scaled)\n",
        "\n",
        "plt.figure(figsize=(10, 7))\n",
        "scatter = plt.scatter(X_pca[:, 0], X_pca[:, 1], c=cluster_labels, cmap='viridis', s=60, edgecolor='k', alpha=0.7)\n",
        "plt.xlabel('Principal Component 1')\n",
        "plt.ylabel('Principal Component 2')\n",
        "plt.title('Agglomerative Clustering on Country Data (via PCA)')\n",
        "plt.legend(*scatter.legend_elements(), title=\"Clusters\")\n",
        "plt.grid(True)\n",
        "plt.show()"
      ]
    },
    {
      "cell_type": "markdown",
      "metadata": {
        "id": "ESJSzB3La6jR"
      },
      "source": [
        "### Part 8: Putting Clusters on the Map  \n",
        "Choropleth maps make the result tangible for non‑technical audiences.  \n",
        "Plotly Express offers an immediate interactive world map keyed by **country name**.  "
      ]
    },
    {
      "cell_type": "code",
      "execution_count": 48,
      "metadata": {
        "id": "sLMiebWyJ-LU"
      },
      "outputs": [
        {
          "data": {
            "application/vnd.plotly.v1+json": {
              "config": {
                "plotlyServerURL": "https://plot.ly"
              },
              "data": [
                {
                  "coloraxis": "coloraxis",
                  "geo": "geo",
                  "hovertemplate": "country=%{location}<br>cluster=%{z}<extra></extra>",
                  "locationmode": "country names",
                  "locations": [
                    "Afghanistan",
                    "Albania",
                    "Algeria",
                    "Angola",
                    "Antigua and Barbuda",
                    "Argentina",
                    "Armenia",
                    "Australia",
                    "Austria",
                    "Azerbaijan",
                    "Bahamas",
                    "Bahrain",
                    "Bangladesh",
                    "Barbados",
                    "Belarus",
                    "Belgium",
                    "Belize",
                    "Benin",
                    "Bhutan",
                    "Bolivia",
                    "Bosnia and Herzegovina",
                    "Botswana",
                    "Brazil",
                    "Brunei",
                    "Bulgaria",
                    "Burkina Faso",
                    "Burundi",
                    "Cambodia",
                    "Cameroon",
                    "Canada",
                    "Cape Verde",
                    "Central African Republic",
                    "Chad",
                    "Chile",
                    "China",
                    "Colombia",
                    "Comoros",
                    "Congo, Dem. Rep.",
                    "Congo, Rep.",
                    "Costa Rica",
                    "Cote d'Ivoire",
                    "Croatia",
                    "Cyprus",
                    "Czech Republic",
                    "Denmark",
                    "Dominican Republic",
                    "Ecuador",
                    "Egypt",
                    "El Salvador",
                    "Equatorial Guinea",
                    "Eritrea",
                    "Estonia",
                    "Fiji",
                    "Finland",
                    "France",
                    "Gabon",
                    "Gambia",
                    "Georgia",
                    "Germany",
                    "Ghana",
                    "Greece",
                    "Grenada",
                    "Guatemala",
                    "Guinea",
                    "Guinea-Bissau",
                    "Guyana",
                    "Haiti",
                    "Hungary",
                    "Iceland",
                    "India",
                    "Indonesia",
                    "Iran",
                    "Iraq",
                    "Ireland",
                    "Israel",
                    "Italy",
                    "Jamaica",
                    "Japan",
                    "Jordan",
                    "Kazakhstan",
                    "Kenya",
                    "Kiribati",
                    "Kuwait",
                    "Kyrgyz Republic",
                    "Lao",
                    "Latvia",
                    "Lebanon",
                    "Lesotho",
                    "Liberia",
                    "Libya",
                    "Lithuania",
                    "Luxembourg",
                    "Macedonia, FYR",
                    "Madagascar",
                    "Malawi",
                    "Malaysia",
                    "Maldives",
                    "Mali",
                    "Malta",
                    "Mauritania",
                    "Mauritius",
                    "Micronesia, Fed. Sts.",
                    "Moldova",
                    "Mongolia",
                    "Montenegro",
                    "Morocco",
                    "Mozambique",
                    "Myanmar",
                    "Namibia",
                    "Nepal",
                    "Netherlands",
                    "New Zealand",
                    "Niger",
                    "Nigeria",
                    "Norway",
                    "Oman",
                    "Pakistan",
                    "Panama",
                    "Paraguay",
                    "Peru",
                    "Philippines",
                    "Poland",
                    "Portugal",
                    "Qatar",
                    "Romania",
                    "Russia",
                    "Rwanda",
                    "Samoa",
                    "Saudi Arabia",
                    "Senegal",
                    "Serbia",
                    "Seychelles",
                    "Sierra Leone",
                    "Singapore",
                    "Slovak Republic",
                    "Slovenia",
                    "Solomon Islands",
                    "South Africa",
                    "South Korea",
                    "Spain",
                    "Sri Lanka",
                    "St. Vincent and the Grenadines",
                    "Sudan",
                    "Suriname",
                    "Sweden",
                    "Switzerland",
                    "Tajikistan",
                    "Tanzania",
                    "Thailand",
                    "Timor-Leste",
                    "Togo",
                    "Tonga",
                    "Tunisia",
                    "Turkey",
                    "Turkmenistan",
                    "Uganda",
                    "Ukraine",
                    "United Arab Emirates",
                    "United Kingdom",
                    "United States",
                    "Uruguay",
                    "Uzbekistan",
                    "Vanuatu",
                    "Venezuela",
                    "Vietnam",
                    "Yemen",
                    "Zambia"
                  ],
                  "name": "",
                  "type": "choropleth",
                  "z": [
                    2,
                    4,
                    0,
                    0,
                    4,
                    0,
                    4,
                    1,
                    1,
                    4,
                    4,
                    1,
                    0,
                    4,
                    4,
                    1,
                    4,
                    2,
                    4,
                    0,
                    4,
                    4,
                    0,
                    1,
                    4,
                    2,
                    2,
                    4,
                    2,
                    1,
                    4,
                    2,
                    2,
                    0,
                    0,
                    0,
                    2,
                    2,
                    0,
                    4,
                    2,
                    4,
                    4,
                    4,
                    1,
                    0,
                    0,
                    0,
                    4,
                    0,
                    0,
                    4,
                    4,
                    1,
                    1,
                    0,
                    2,
                    4,
                    1,
                    0,
                    1,
                    4,
                    0,
                    2,
                    2,
                    4,
                    2,
                    4,
                    1,
                    0,
                    0,
                    0,
                    0,
                    1,
                    1,
                    1,
                    4,
                    1,
                    4,
                    0,
                    2,
                    4,
                    1,
                    4,
                    0,
                    4,
                    4,
                    4,
                    4,
                    1,
                    4,
                    3,
                    4,
                    2,
                    2,
                    4,
                    4,
                    2,
                    3,
                    0,
                    4,
                    4,
                    4,
                    0,
                    4,
                    4,
                    2,
                    0,
                    4,
                    0,
                    1,
                    1,
                    2,
                    0,
                    1,
                    1,
                    0,
                    4,
                    4,
                    0,
                    0,
                    4,
                    1,
                    1,
                    4,
                    0,
                    2,
                    4,
                    1,
                    2,
                    4,
                    4,
                    2,
                    3,
                    4,
                    4,
                    4,
                    4,
                    4,
                    1,
                    0,
                    4,
                    0,
                    4,
                    1,
                    1,
                    0,
                    2,
                    4,
                    0,
                    2,
                    4,
                    4,
                    0,
                    0,
                    2,
                    4,
                    1,
                    1,
                    1,
                    0,
                    0,
                    4,
                    0,
                    4,
                    0,
                    2
                  ]
                }
              ],
              "layout": {
                "coloraxis": {
                  "colorbar": {
                    "title": {
                      "text": "cluster"
                    }
                  },
                  "colorscale": [
                    [
                      0,
                      "#0d0887"
                    ],
                    [
                      0.1111111111111111,
                      "#46039f"
                    ],
                    [
                      0.2222222222222222,
                      "#7201a8"
                    ],
                    [
                      0.3333333333333333,
                      "#9c179e"
                    ],
                    [
                      0.4444444444444444,
                      "#bd3786"
                    ],
                    [
                      0.5555555555555556,
                      "#d8576b"
                    ],
                    [
                      0.6666666666666666,
                      "#ed7953"
                    ],
                    [
                      0.7777777777777778,
                      "#fb9f3a"
                    ],
                    [
                      0.8888888888888888,
                      "#fdca26"
                    ],
                    [
                      1,
                      "#f0f921"
                    ]
                  ]
                },
                "geo": {
                  "center": {},
                  "domain": {
                    "x": [
                      0,
                      1
                    ],
                    "y": [
                      0,
                      1
                    ]
                  },
                  "fitbounds": "locations",
                  "visible": true
                },
                "legend": {
                  "title": {
                    "side": "top",
                    "text": "Cluster"
                  },
                  "tracegroupgap": 0
                },
                "template": {
                  "data": {
                    "bar": [
                      {
                        "error_x": {
                          "color": "#2a3f5f"
                        },
                        "error_y": {
                          "color": "#2a3f5f"
                        },
                        "marker": {
                          "line": {
                            "color": "#E5ECF6",
                            "width": 0.5
                          },
                          "pattern": {
                            "fillmode": "overlay",
                            "size": 10,
                            "solidity": 0.2
                          }
                        },
                        "type": "bar"
                      }
                    ],
                    "barpolar": [
                      {
                        "marker": {
                          "line": {
                            "color": "#E5ECF6",
                            "width": 0.5
                          },
                          "pattern": {
                            "fillmode": "overlay",
                            "size": 10,
                            "solidity": 0.2
                          }
                        },
                        "type": "barpolar"
                      }
                    ],
                    "carpet": [
                      {
                        "aaxis": {
                          "endlinecolor": "#2a3f5f",
                          "gridcolor": "white",
                          "linecolor": "white",
                          "minorgridcolor": "white",
                          "startlinecolor": "#2a3f5f"
                        },
                        "baxis": {
                          "endlinecolor": "#2a3f5f",
                          "gridcolor": "white",
                          "linecolor": "white",
                          "minorgridcolor": "white",
                          "startlinecolor": "#2a3f5f"
                        },
                        "type": "carpet"
                      }
                    ],
                    "choropleth": [
                      {
                        "colorbar": {
                          "outlinewidth": 0,
                          "ticks": ""
                        },
                        "type": "choropleth"
                      }
                    ],
                    "contour": [
                      {
                        "colorbar": {
                          "outlinewidth": 0,
                          "ticks": ""
                        },
                        "colorscale": [
                          [
                            0,
                            "#0d0887"
                          ],
                          [
                            0.1111111111111111,
                            "#46039f"
                          ],
                          [
                            0.2222222222222222,
                            "#7201a8"
                          ],
                          [
                            0.3333333333333333,
                            "#9c179e"
                          ],
                          [
                            0.4444444444444444,
                            "#bd3786"
                          ],
                          [
                            0.5555555555555556,
                            "#d8576b"
                          ],
                          [
                            0.6666666666666666,
                            "#ed7953"
                          ],
                          [
                            0.7777777777777778,
                            "#fb9f3a"
                          ],
                          [
                            0.8888888888888888,
                            "#fdca26"
                          ],
                          [
                            1,
                            "#f0f921"
                          ]
                        ],
                        "type": "contour"
                      }
                    ],
                    "contourcarpet": [
                      {
                        "colorbar": {
                          "outlinewidth": 0,
                          "ticks": ""
                        },
                        "type": "contourcarpet"
                      }
                    ],
                    "heatmap": [
                      {
                        "colorbar": {
                          "outlinewidth": 0,
                          "ticks": ""
                        },
                        "colorscale": [
                          [
                            0,
                            "#0d0887"
                          ],
                          [
                            0.1111111111111111,
                            "#46039f"
                          ],
                          [
                            0.2222222222222222,
                            "#7201a8"
                          ],
                          [
                            0.3333333333333333,
                            "#9c179e"
                          ],
                          [
                            0.4444444444444444,
                            "#bd3786"
                          ],
                          [
                            0.5555555555555556,
                            "#d8576b"
                          ],
                          [
                            0.6666666666666666,
                            "#ed7953"
                          ],
                          [
                            0.7777777777777778,
                            "#fb9f3a"
                          ],
                          [
                            0.8888888888888888,
                            "#fdca26"
                          ],
                          [
                            1,
                            "#f0f921"
                          ]
                        ],
                        "type": "heatmap"
                      }
                    ],
                    "heatmapgl": [
                      {
                        "colorbar": {
                          "outlinewidth": 0,
                          "ticks": ""
                        },
                        "colorscale": [
                          [
                            0,
                            "#0d0887"
                          ],
                          [
                            0.1111111111111111,
                            "#46039f"
                          ],
                          [
                            0.2222222222222222,
                            "#7201a8"
                          ],
                          [
                            0.3333333333333333,
                            "#9c179e"
                          ],
                          [
                            0.4444444444444444,
                            "#bd3786"
                          ],
                          [
                            0.5555555555555556,
                            "#d8576b"
                          ],
                          [
                            0.6666666666666666,
                            "#ed7953"
                          ],
                          [
                            0.7777777777777778,
                            "#fb9f3a"
                          ],
                          [
                            0.8888888888888888,
                            "#fdca26"
                          ],
                          [
                            1,
                            "#f0f921"
                          ]
                        ],
                        "type": "heatmapgl"
                      }
                    ],
                    "histogram": [
                      {
                        "marker": {
                          "pattern": {
                            "fillmode": "overlay",
                            "size": 10,
                            "solidity": 0.2
                          }
                        },
                        "type": "histogram"
                      }
                    ],
                    "histogram2d": [
                      {
                        "colorbar": {
                          "outlinewidth": 0,
                          "ticks": ""
                        },
                        "colorscale": [
                          [
                            0,
                            "#0d0887"
                          ],
                          [
                            0.1111111111111111,
                            "#46039f"
                          ],
                          [
                            0.2222222222222222,
                            "#7201a8"
                          ],
                          [
                            0.3333333333333333,
                            "#9c179e"
                          ],
                          [
                            0.4444444444444444,
                            "#bd3786"
                          ],
                          [
                            0.5555555555555556,
                            "#d8576b"
                          ],
                          [
                            0.6666666666666666,
                            "#ed7953"
                          ],
                          [
                            0.7777777777777778,
                            "#fb9f3a"
                          ],
                          [
                            0.8888888888888888,
                            "#fdca26"
                          ],
                          [
                            1,
                            "#f0f921"
                          ]
                        ],
                        "type": "histogram2d"
                      }
                    ],
                    "histogram2dcontour": [
                      {
                        "colorbar": {
                          "outlinewidth": 0,
                          "ticks": ""
                        },
                        "colorscale": [
                          [
                            0,
                            "#0d0887"
                          ],
                          [
                            0.1111111111111111,
                            "#46039f"
                          ],
                          [
                            0.2222222222222222,
                            "#7201a8"
                          ],
                          [
                            0.3333333333333333,
                            "#9c179e"
                          ],
                          [
                            0.4444444444444444,
                            "#bd3786"
                          ],
                          [
                            0.5555555555555556,
                            "#d8576b"
                          ],
                          [
                            0.6666666666666666,
                            "#ed7953"
                          ],
                          [
                            0.7777777777777778,
                            "#fb9f3a"
                          ],
                          [
                            0.8888888888888888,
                            "#fdca26"
                          ],
                          [
                            1,
                            "#f0f921"
                          ]
                        ],
                        "type": "histogram2dcontour"
                      }
                    ],
                    "mesh3d": [
                      {
                        "colorbar": {
                          "outlinewidth": 0,
                          "ticks": ""
                        },
                        "type": "mesh3d"
                      }
                    ],
                    "parcoords": [
                      {
                        "line": {
                          "colorbar": {
                            "outlinewidth": 0,
                            "ticks": ""
                          }
                        },
                        "type": "parcoords"
                      }
                    ],
                    "pie": [
                      {
                        "automargin": true,
                        "type": "pie"
                      }
                    ],
                    "scatter": [
                      {
                        "fillpattern": {
                          "fillmode": "overlay",
                          "size": 10,
                          "solidity": 0.2
                        },
                        "type": "scatter"
                      }
                    ],
                    "scatter3d": [
                      {
                        "line": {
                          "colorbar": {
                            "outlinewidth": 0,
                            "ticks": ""
                          }
                        },
                        "marker": {
                          "colorbar": {
                            "outlinewidth": 0,
                            "ticks": ""
                          }
                        },
                        "type": "scatter3d"
                      }
                    ],
                    "scattercarpet": [
                      {
                        "marker": {
                          "colorbar": {
                            "outlinewidth": 0,
                            "ticks": ""
                          }
                        },
                        "type": "scattercarpet"
                      }
                    ],
                    "scattergeo": [
                      {
                        "marker": {
                          "colorbar": {
                            "outlinewidth": 0,
                            "ticks": ""
                          }
                        },
                        "type": "scattergeo"
                      }
                    ],
                    "scattergl": [
                      {
                        "marker": {
                          "colorbar": {
                            "outlinewidth": 0,
                            "ticks": ""
                          }
                        },
                        "type": "scattergl"
                      }
                    ],
                    "scattermapbox": [
                      {
                        "marker": {
                          "colorbar": {
                            "outlinewidth": 0,
                            "ticks": ""
                          }
                        },
                        "type": "scattermapbox"
                      }
                    ],
                    "scatterpolar": [
                      {
                        "marker": {
                          "colorbar": {
                            "outlinewidth": 0,
                            "ticks": ""
                          }
                        },
                        "type": "scatterpolar"
                      }
                    ],
                    "scatterpolargl": [
                      {
                        "marker": {
                          "colorbar": {
                            "outlinewidth": 0,
                            "ticks": ""
                          }
                        },
                        "type": "scatterpolargl"
                      }
                    ],
                    "scatterternary": [
                      {
                        "marker": {
                          "colorbar": {
                            "outlinewidth": 0,
                            "ticks": ""
                          }
                        },
                        "type": "scatterternary"
                      }
                    ],
                    "surface": [
                      {
                        "colorbar": {
                          "outlinewidth": 0,
                          "ticks": ""
                        },
                        "colorscale": [
                          [
                            0,
                            "#0d0887"
                          ],
                          [
                            0.1111111111111111,
                            "#46039f"
                          ],
                          [
                            0.2222222222222222,
                            "#7201a8"
                          ],
                          [
                            0.3333333333333333,
                            "#9c179e"
                          ],
                          [
                            0.4444444444444444,
                            "#bd3786"
                          ],
                          [
                            0.5555555555555556,
                            "#d8576b"
                          ],
                          [
                            0.6666666666666666,
                            "#ed7953"
                          ],
                          [
                            0.7777777777777778,
                            "#fb9f3a"
                          ],
                          [
                            0.8888888888888888,
                            "#fdca26"
                          ],
                          [
                            1,
                            "#f0f921"
                          ]
                        ],
                        "type": "surface"
                      }
                    ],
                    "table": [
                      {
                        "cells": {
                          "fill": {
                            "color": "#EBF0F8"
                          },
                          "line": {
                            "color": "white"
                          }
                        },
                        "header": {
                          "fill": {
                            "color": "#C8D4E3"
                          },
                          "line": {
                            "color": "white"
                          }
                        },
                        "type": "table"
                      }
                    ]
                  },
                  "layout": {
                    "annotationdefaults": {
                      "arrowcolor": "#2a3f5f",
                      "arrowhead": 0,
                      "arrowwidth": 1
                    },
                    "autotypenumbers": "strict",
                    "coloraxis": {
                      "colorbar": {
                        "outlinewidth": 0,
                        "ticks": ""
                      }
                    },
                    "colorscale": {
                      "diverging": [
                        [
                          0,
                          "#8e0152"
                        ],
                        [
                          0.1,
                          "#c51b7d"
                        ],
                        [
                          0.2,
                          "#de77ae"
                        ],
                        [
                          0.3,
                          "#f1b6da"
                        ],
                        [
                          0.4,
                          "#fde0ef"
                        ],
                        [
                          0.5,
                          "#f7f7f7"
                        ],
                        [
                          0.6,
                          "#e6f5d0"
                        ],
                        [
                          0.7,
                          "#b8e186"
                        ],
                        [
                          0.8,
                          "#7fbc41"
                        ],
                        [
                          0.9,
                          "#4d9221"
                        ],
                        [
                          1,
                          "#276419"
                        ]
                      ],
                      "sequential": [
                        [
                          0,
                          "#0d0887"
                        ],
                        [
                          0.1111111111111111,
                          "#46039f"
                        ],
                        [
                          0.2222222222222222,
                          "#7201a8"
                        ],
                        [
                          0.3333333333333333,
                          "#9c179e"
                        ],
                        [
                          0.4444444444444444,
                          "#bd3786"
                        ],
                        [
                          0.5555555555555556,
                          "#d8576b"
                        ],
                        [
                          0.6666666666666666,
                          "#ed7953"
                        ],
                        [
                          0.7777777777777778,
                          "#fb9f3a"
                        ],
                        [
                          0.8888888888888888,
                          "#fdca26"
                        ],
                        [
                          1,
                          "#f0f921"
                        ]
                      ],
                      "sequentialminus": [
                        [
                          0,
                          "#0d0887"
                        ],
                        [
                          0.1111111111111111,
                          "#46039f"
                        ],
                        [
                          0.2222222222222222,
                          "#7201a8"
                        ],
                        [
                          0.3333333333333333,
                          "#9c179e"
                        ],
                        [
                          0.4444444444444444,
                          "#bd3786"
                        ],
                        [
                          0.5555555555555556,
                          "#d8576b"
                        ],
                        [
                          0.6666666666666666,
                          "#ed7953"
                        ],
                        [
                          0.7777777777777778,
                          "#fb9f3a"
                        ],
                        [
                          0.8888888888888888,
                          "#fdca26"
                        ],
                        [
                          1,
                          "#f0f921"
                        ]
                      ]
                    },
                    "colorway": [
                      "#636efa",
                      "#EF553B",
                      "#00cc96",
                      "#ab63fa",
                      "#FFA15A",
                      "#19d3f3",
                      "#FF6692",
                      "#B6E880",
                      "#FF97FF",
                      "#FECB52"
                    ],
                    "font": {
                      "color": "#2a3f5f"
                    },
                    "geo": {
                      "bgcolor": "white",
                      "lakecolor": "white",
                      "landcolor": "#E5ECF6",
                      "showlakes": true,
                      "showland": true,
                      "subunitcolor": "white"
                    },
                    "hoverlabel": {
                      "align": "left"
                    },
                    "hovermode": "closest",
                    "mapbox": {
                      "style": "light"
                    },
                    "paper_bgcolor": "white",
                    "plot_bgcolor": "#E5ECF6",
                    "polar": {
                      "angularaxis": {
                        "gridcolor": "white",
                        "linecolor": "white",
                        "ticks": ""
                      },
                      "bgcolor": "#E5ECF6",
                      "radialaxis": {
                        "gridcolor": "white",
                        "linecolor": "white",
                        "ticks": ""
                      }
                    },
                    "scene": {
                      "xaxis": {
                        "backgroundcolor": "#E5ECF6",
                        "gridcolor": "white",
                        "gridwidth": 2,
                        "linecolor": "white",
                        "showbackground": true,
                        "ticks": "",
                        "zerolinecolor": "white"
                      },
                      "yaxis": {
                        "backgroundcolor": "#E5ECF6",
                        "gridcolor": "white",
                        "gridwidth": 2,
                        "linecolor": "white",
                        "showbackground": true,
                        "ticks": "",
                        "zerolinecolor": "white"
                      },
                      "zaxis": {
                        "backgroundcolor": "#E5ECF6",
                        "gridcolor": "white",
                        "gridwidth": 2,
                        "linecolor": "white",
                        "showbackground": true,
                        "ticks": "",
                        "zerolinecolor": "white"
                      }
                    },
                    "shapedefaults": {
                      "line": {
                        "color": "#2a3f5f"
                      }
                    },
                    "ternary": {
                      "aaxis": {
                        "gridcolor": "white",
                        "linecolor": "white",
                        "ticks": ""
                      },
                      "baxis": {
                        "gridcolor": "white",
                        "linecolor": "white",
                        "ticks": ""
                      },
                      "bgcolor": "#E5ECF6",
                      "caxis": {
                        "gridcolor": "white",
                        "linecolor": "white",
                        "ticks": ""
                      }
                    },
                    "title": {
                      "x": 0.05
                    },
                    "xaxis": {
                      "automargin": true,
                      "gridcolor": "white",
                      "linecolor": "white",
                      "ticks": "",
                      "title": {
                        "standoff": 15
                      },
                      "zerolinecolor": "white",
                      "zerolinewidth": 2
                    },
                    "yaxis": {
                      "automargin": true,
                      "gridcolor": "white",
                      "linecolor": "white",
                      "ticks": "",
                      "title": {
                        "standoff": 15
                      },
                      "zerolinecolor": "white",
                      "zerolinewidth": 2
                    }
                  }
                },
                "title": {
                  "text": "Country Clusters on World Map"
                }
              }
            }
          },
          "metadata": {},
          "output_type": "display_data"
        }
      ],
      "source": [
        "import plotly.express as px\n",
        "\n",
        "# Define a discrete color mapping for the clusters (adjust colors as needed)\n",
        "color_map = {0:\"blue\", 1:\"orange\", 2:\"green\", 3:\"red\", 4:\"yellow\"}  # add more if k>4\n",
        "\n",
        "\n",
        "# Create the choropleth map\n",
        "fig = px.choropleth(\n",
        "    data[['country', 'cluster']],\n",
        "    locationmode='country names',\n",
        "    locations='country',\n",
        "    title='Country Clusters on World Map',\n",
        "    color='cluster',\n",
        "    color_discrete_map=color_map\n",
        ")\n",
        "\n",
        "# Update the geographic layout and legend settings\n",
        "fig.update_geos(fitbounds=\"locations\", visible=True)\n",
        "fig.update_layout(\n",
        "    legend_title_text='Cluster',\n",
        "    legend_title_side='top'\n",
        ")\n",
        "\n",
        "fig.show(engine='kaleido')"
      ]
    },
    {
      "cell_type": "code",
      "execution_count": 56,
      "metadata": {},
      "outputs": [
        {
          "data": {
            "text/html": [
              "<style>#sk-container-id-3 {\n",
              "  /* Definition of color scheme common for light and dark mode */\n",
              "  --sklearn-color-text: black;\n",
              "  --sklearn-color-line: gray;\n",
              "  /* Definition of color scheme for unfitted estimators */\n",
              "  --sklearn-color-unfitted-level-0: #fff5e6;\n",
              "  --sklearn-color-unfitted-level-1: #f6e4d2;\n",
              "  --sklearn-color-unfitted-level-2: #ffe0b3;\n",
              "  --sklearn-color-unfitted-level-3: chocolate;\n",
              "  /* Definition of color scheme for fitted estimators */\n",
              "  --sklearn-color-fitted-level-0: #f0f8ff;\n",
              "  --sklearn-color-fitted-level-1: #d4ebff;\n",
              "  --sklearn-color-fitted-level-2: #b3dbfd;\n",
              "  --sklearn-color-fitted-level-3: cornflowerblue;\n",
              "\n",
              "  /* Specific color for light theme */\n",
              "  --sklearn-color-text-on-default-background: var(--sg-text-color, var(--theme-code-foreground, var(--jp-content-font-color1, black)));\n",
              "  --sklearn-color-background: var(--sg-background-color, var(--theme-background, var(--jp-layout-color0, white)));\n",
              "  --sklearn-color-border-box: var(--sg-text-color, var(--theme-code-foreground, var(--jp-content-font-color1, black)));\n",
              "  --sklearn-color-icon: #696969;\n",
              "\n",
              "  @media (prefers-color-scheme: dark) {\n",
              "    /* Redefinition of color scheme for dark theme */\n",
              "    --sklearn-color-text-on-default-background: var(--sg-text-color, var(--theme-code-foreground, var(--jp-content-font-color1, white)));\n",
              "    --sklearn-color-background: var(--sg-background-color, var(--theme-background, var(--jp-layout-color0, #111)));\n",
              "    --sklearn-color-border-box: var(--sg-text-color, var(--theme-code-foreground, var(--jp-content-font-color1, white)));\n",
              "    --sklearn-color-icon: #878787;\n",
              "  }\n",
              "}\n",
              "\n",
              "#sk-container-id-3 {\n",
              "  color: var(--sklearn-color-text);\n",
              "}\n",
              "\n",
              "#sk-container-id-3 pre {\n",
              "  padding: 0;\n",
              "}\n",
              "\n",
              "#sk-container-id-3 input.sk-hidden--visually {\n",
              "  border: 0;\n",
              "  clip: rect(1px 1px 1px 1px);\n",
              "  clip: rect(1px, 1px, 1px, 1px);\n",
              "  height: 1px;\n",
              "  margin: -1px;\n",
              "  overflow: hidden;\n",
              "  padding: 0;\n",
              "  position: absolute;\n",
              "  width: 1px;\n",
              "}\n",
              "\n",
              "#sk-container-id-3 div.sk-dashed-wrapped {\n",
              "  border: 1px dashed var(--sklearn-color-line);\n",
              "  margin: 0 0.4em 0.5em 0.4em;\n",
              "  box-sizing: border-box;\n",
              "  padding-bottom: 0.4em;\n",
              "  background-color: var(--sklearn-color-background);\n",
              "}\n",
              "\n",
              "#sk-container-id-3 div.sk-container {\n",
              "  /* jupyter's `normalize.less` sets `[hidden] { display: none; }`\n",
              "     but bootstrap.min.css set `[hidden] { display: none !important; }`\n",
              "     so we also need the `!important` here to be able to override the\n",
              "     default hidden behavior on the sphinx rendered scikit-learn.org.\n",
              "     See: https://github.com/scikit-learn/scikit-learn/issues/21755 */\n",
              "  display: inline-block !important;\n",
              "  position: relative;\n",
              "}\n",
              "\n",
              "#sk-container-id-3 div.sk-text-repr-fallback {\n",
              "  display: none;\n",
              "}\n",
              "\n",
              "div.sk-parallel-item,\n",
              "div.sk-serial,\n",
              "div.sk-item {\n",
              "  /* draw centered vertical line to link estimators */\n",
              "  background-image: linear-gradient(var(--sklearn-color-text-on-default-background), var(--sklearn-color-text-on-default-background));\n",
              "  background-size: 2px 100%;\n",
              "  background-repeat: no-repeat;\n",
              "  background-position: center center;\n",
              "}\n",
              "\n",
              "/* Parallel-specific style estimator block */\n",
              "\n",
              "#sk-container-id-3 div.sk-parallel-item::after {\n",
              "  content: \"\";\n",
              "  width: 100%;\n",
              "  border-bottom: 2px solid var(--sklearn-color-text-on-default-background);\n",
              "  flex-grow: 1;\n",
              "}\n",
              "\n",
              "#sk-container-id-3 div.sk-parallel {\n",
              "  display: flex;\n",
              "  align-items: stretch;\n",
              "  justify-content: center;\n",
              "  background-color: var(--sklearn-color-background);\n",
              "  position: relative;\n",
              "}\n",
              "\n",
              "#sk-container-id-3 div.sk-parallel-item {\n",
              "  display: flex;\n",
              "  flex-direction: column;\n",
              "}\n",
              "\n",
              "#sk-container-id-3 div.sk-parallel-item:first-child::after {\n",
              "  align-self: flex-end;\n",
              "  width: 50%;\n",
              "}\n",
              "\n",
              "#sk-container-id-3 div.sk-parallel-item:last-child::after {\n",
              "  align-self: flex-start;\n",
              "  width: 50%;\n",
              "}\n",
              "\n",
              "#sk-container-id-3 div.sk-parallel-item:only-child::after {\n",
              "  width: 0;\n",
              "}\n",
              "\n",
              "/* Serial-specific style estimator block */\n",
              "\n",
              "#sk-container-id-3 div.sk-serial {\n",
              "  display: flex;\n",
              "  flex-direction: column;\n",
              "  align-items: center;\n",
              "  background-color: var(--sklearn-color-background);\n",
              "  padding-right: 1em;\n",
              "  padding-left: 1em;\n",
              "}\n",
              "\n",
              "\n",
              "/* Toggleable style: style used for estimator/Pipeline/ColumnTransformer box that is\n",
              "clickable and can be expanded/collapsed.\n",
              "- Pipeline and ColumnTransformer use this feature and define the default style\n",
              "- Estimators will overwrite some part of the style using the `sk-estimator` class\n",
              "*/\n",
              "\n",
              "/* Pipeline and ColumnTransformer style (default) */\n",
              "\n",
              "#sk-container-id-3 div.sk-toggleable {\n",
              "  /* Default theme specific background. It is overwritten whether we have a\n",
              "  specific estimator or a Pipeline/ColumnTransformer */\n",
              "  background-color: var(--sklearn-color-background);\n",
              "}\n",
              "\n",
              "/* Toggleable label */\n",
              "#sk-container-id-3 label.sk-toggleable__label {\n",
              "  cursor: pointer;\n",
              "  display: block;\n",
              "  width: 100%;\n",
              "  margin-bottom: 0;\n",
              "  padding: 0.5em;\n",
              "  box-sizing: border-box;\n",
              "  text-align: center;\n",
              "}\n",
              "\n",
              "#sk-container-id-3 label.sk-toggleable__label-arrow:before {\n",
              "  /* Arrow on the left of the label */\n",
              "  content: \"▸\";\n",
              "  float: left;\n",
              "  margin-right: 0.25em;\n",
              "  color: var(--sklearn-color-icon);\n",
              "}\n",
              "\n",
              "#sk-container-id-3 label.sk-toggleable__label-arrow:hover:before {\n",
              "  color: var(--sklearn-color-text);\n",
              "}\n",
              "\n",
              "/* Toggleable content - dropdown */\n",
              "\n",
              "#sk-container-id-3 div.sk-toggleable__content {\n",
              "  max-height: 0;\n",
              "  max-width: 0;\n",
              "  overflow: hidden;\n",
              "  text-align: left;\n",
              "  /* unfitted */\n",
              "  background-color: var(--sklearn-color-unfitted-level-0);\n",
              "}\n",
              "\n",
              "#sk-container-id-3 div.sk-toggleable__content.fitted {\n",
              "  /* fitted */\n",
              "  background-color: var(--sklearn-color-fitted-level-0);\n",
              "}\n",
              "\n",
              "#sk-container-id-3 div.sk-toggleable__content pre {\n",
              "  margin: 0.2em;\n",
              "  border-radius: 0.25em;\n",
              "  color: var(--sklearn-color-text);\n",
              "  /* unfitted */\n",
              "  background-color: var(--sklearn-color-unfitted-level-0);\n",
              "}\n",
              "\n",
              "#sk-container-id-3 div.sk-toggleable__content.fitted pre {\n",
              "  /* unfitted */\n",
              "  background-color: var(--sklearn-color-fitted-level-0);\n",
              "}\n",
              "\n",
              "#sk-container-id-3 input.sk-toggleable__control:checked~div.sk-toggleable__content {\n",
              "  /* Expand drop-down */\n",
              "  max-height: 200px;\n",
              "  max-width: 100%;\n",
              "  overflow: auto;\n",
              "}\n",
              "\n",
              "#sk-container-id-3 input.sk-toggleable__control:checked~label.sk-toggleable__label-arrow:before {\n",
              "  content: \"▾\";\n",
              "}\n",
              "\n",
              "/* Pipeline/ColumnTransformer-specific style */\n",
              "\n",
              "#sk-container-id-3 div.sk-label input.sk-toggleable__control:checked~label.sk-toggleable__label {\n",
              "  color: var(--sklearn-color-text);\n",
              "  background-color: var(--sklearn-color-unfitted-level-2);\n",
              "}\n",
              "\n",
              "#sk-container-id-3 div.sk-label.fitted input.sk-toggleable__control:checked~label.sk-toggleable__label {\n",
              "  background-color: var(--sklearn-color-fitted-level-2);\n",
              "}\n",
              "\n",
              "/* Estimator-specific style */\n",
              "\n",
              "/* Colorize estimator box */\n",
              "#sk-container-id-3 div.sk-estimator input.sk-toggleable__control:checked~label.sk-toggleable__label {\n",
              "  /* unfitted */\n",
              "  background-color: var(--sklearn-color-unfitted-level-2);\n",
              "}\n",
              "\n",
              "#sk-container-id-3 div.sk-estimator.fitted input.sk-toggleable__control:checked~label.sk-toggleable__label {\n",
              "  /* fitted */\n",
              "  background-color: var(--sklearn-color-fitted-level-2);\n",
              "}\n",
              "\n",
              "#sk-container-id-3 div.sk-label label.sk-toggleable__label,\n",
              "#sk-container-id-3 div.sk-label label {\n",
              "  /* The background is the default theme color */\n",
              "  color: var(--sklearn-color-text-on-default-background);\n",
              "}\n",
              "\n",
              "/* On hover, darken the color of the background */\n",
              "#sk-container-id-3 div.sk-label:hover label.sk-toggleable__label {\n",
              "  color: var(--sklearn-color-text);\n",
              "  background-color: var(--sklearn-color-unfitted-level-2);\n",
              "}\n",
              "\n",
              "/* Label box, darken color on hover, fitted */\n",
              "#sk-container-id-3 div.sk-label.fitted:hover label.sk-toggleable__label.fitted {\n",
              "  color: var(--sklearn-color-text);\n",
              "  background-color: var(--sklearn-color-fitted-level-2);\n",
              "}\n",
              "\n",
              "/* Estimator label */\n",
              "\n",
              "#sk-container-id-3 div.sk-label label {\n",
              "  font-family: monospace;\n",
              "  font-weight: bold;\n",
              "  display: inline-block;\n",
              "  line-height: 1.2em;\n",
              "}\n",
              "\n",
              "#sk-container-id-3 div.sk-label-container {\n",
              "  text-align: center;\n",
              "}\n",
              "\n",
              "/* Estimator-specific */\n",
              "#sk-container-id-3 div.sk-estimator {\n",
              "  font-family: monospace;\n",
              "  border: 1px dotted var(--sklearn-color-border-box);\n",
              "  border-radius: 0.25em;\n",
              "  box-sizing: border-box;\n",
              "  margin-bottom: 0.5em;\n",
              "  /* unfitted */\n",
              "  background-color: var(--sklearn-color-unfitted-level-0);\n",
              "}\n",
              "\n",
              "#sk-container-id-3 div.sk-estimator.fitted {\n",
              "  /* fitted */\n",
              "  background-color: var(--sklearn-color-fitted-level-0);\n",
              "}\n",
              "\n",
              "/* on hover */\n",
              "#sk-container-id-3 div.sk-estimator:hover {\n",
              "  /* unfitted */\n",
              "  background-color: var(--sklearn-color-unfitted-level-2);\n",
              "}\n",
              "\n",
              "#sk-container-id-3 div.sk-estimator.fitted:hover {\n",
              "  /* fitted */\n",
              "  background-color: var(--sklearn-color-fitted-level-2);\n",
              "}\n",
              "\n",
              "/* Specification for estimator info (e.g. \"i\" and \"?\") */\n",
              "\n",
              "/* Common style for \"i\" and \"?\" */\n",
              "\n",
              ".sk-estimator-doc-link,\n",
              "a:link.sk-estimator-doc-link,\n",
              "a:visited.sk-estimator-doc-link {\n",
              "  float: right;\n",
              "  font-size: smaller;\n",
              "  line-height: 1em;\n",
              "  font-family: monospace;\n",
              "  background-color: var(--sklearn-color-background);\n",
              "  border-radius: 1em;\n",
              "  height: 1em;\n",
              "  width: 1em;\n",
              "  text-decoration: none !important;\n",
              "  margin-left: 1ex;\n",
              "  /* unfitted */\n",
              "  border: var(--sklearn-color-unfitted-level-1) 1pt solid;\n",
              "  color: var(--sklearn-color-unfitted-level-1);\n",
              "}\n",
              "\n",
              ".sk-estimator-doc-link.fitted,\n",
              "a:link.sk-estimator-doc-link.fitted,\n",
              "a:visited.sk-estimator-doc-link.fitted {\n",
              "  /* fitted */\n",
              "  border: var(--sklearn-color-fitted-level-1) 1pt solid;\n",
              "  color: var(--sklearn-color-fitted-level-1);\n",
              "}\n",
              "\n",
              "/* On hover */\n",
              "div.sk-estimator:hover .sk-estimator-doc-link:hover,\n",
              ".sk-estimator-doc-link:hover,\n",
              "div.sk-label-container:hover .sk-estimator-doc-link:hover,\n",
              ".sk-estimator-doc-link:hover {\n",
              "  /* unfitted */\n",
              "  background-color: var(--sklearn-color-unfitted-level-3);\n",
              "  color: var(--sklearn-color-background);\n",
              "  text-decoration: none;\n",
              "}\n",
              "\n",
              "div.sk-estimator.fitted:hover .sk-estimator-doc-link.fitted:hover,\n",
              ".sk-estimator-doc-link.fitted:hover,\n",
              "div.sk-label-container:hover .sk-estimator-doc-link.fitted:hover,\n",
              ".sk-estimator-doc-link.fitted:hover {\n",
              "  /* fitted */\n",
              "  background-color: var(--sklearn-color-fitted-level-3);\n",
              "  color: var(--sklearn-color-background);\n",
              "  text-decoration: none;\n",
              "}\n",
              "\n",
              "/* Span, style for the box shown on hovering the info icon */\n",
              ".sk-estimator-doc-link span {\n",
              "  display: none;\n",
              "  z-index: 9999;\n",
              "  position: relative;\n",
              "  font-weight: normal;\n",
              "  right: .2ex;\n",
              "  padding: .5ex;\n",
              "  margin: .5ex;\n",
              "  width: min-content;\n",
              "  min-width: 20ex;\n",
              "  max-width: 50ex;\n",
              "  color: var(--sklearn-color-text);\n",
              "  box-shadow: 2pt 2pt 4pt #999;\n",
              "  /* unfitted */\n",
              "  background: var(--sklearn-color-unfitted-level-0);\n",
              "  border: .5pt solid var(--sklearn-color-unfitted-level-3);\n",
              "}\n",
              "\n",
              ".sk-estimator-doc-link.fitted span {\n",
              "  /* fitted */\n",
              "  background: var(--sklearn-color-fitted-level-0);\n",
              "  border: var(--sklearn-color-fitted-level-3);\n",
              "}\n",
              "\n",
              ".sk-estimator-doc-link:hover span {\n",
              "  display: block;\n",
              "}\n",
              "\n",
              "/* \"?\"-specific style due to the `<a>` HTML tag */\n",
              "\n",
              "#sk-container-id-3 a.estimator_doc_link {\n",
              "  float: right;\n",
              "  font-size: 1rem;\n",
              "  line-height: 1em;\n",
              "  font-family: monospace;\n",
              "  background-color: var(--sklearn-color-background);\n",
              "  border-radius: 1rem;\n",
              "  height: 1rem;\n",
              "  width: 1rem;\n",
              "  text-decoration: none;\n",
              "  /* unfitted */\n",
              "  color: var(--sklearn-color-unfitted-level-1);\n",
              "  border: var(--sklearn-color-unfitted-level-1) 1pt solid;\n",
              "}\n",
              "\n",
              "#sk-container-id-3 a.estimator_doc_link.fitted {\n",
              "  /* fitted */\n",
              "  border: var(--sklearn-color-fitted-level-1) 1pt solid;\n",
              "  color: var(--sklearn-color-fitted-level-1);\n",
              "}\n",
              "\n",
              "/* On hover */\n",
              "#sk-container-id-3 a.estimator_doc_link:hover {\n",
              "  /* unfitted */\n",
              "  background-color: var(--sklearn-color-unfitted-level-3);\n",
              "  color: var(--sklearn-color-background);\n",
              "  text-decoration: none;\n",
              "}\n",
              "\n",
              "#sk-container-id-3 a.estimator_doc_link.fitted:hover {\n",
              "  /* fitted */\n",
              "  background-color: var(--sklearn-color-fitted-level-3);\n",
              "}\n",
              "</style><div id=\"sk-container-id-3\" class=\"sk-top-container\"><div class=\"sk-text-repr-fallback\"><pre>DecisionTreeClassifier()</pre><b>In a Jupyter environment, please rerun this cell to show the HTML representation or trust the notebook. <br />On GitHub, the HTML representation is unable to render, please try loading this page with nbviewer.org.</b></div><div class=\"sk-container\" hidden><div class=\"sk-item\"><div class=\"sk-estimator fitted sk-toggleable\"><input class=\"sk-toggleable__control sk-hidden--visually\" id=\"sk-estimator-id-3\" type=\"checkbox\" checked><label for=\"sk-estimator-id-3\" class=\"sk-toggleable__label fitted sk-toggleable__label-arrow fitted\">&nbsp;&nbsp;DecisionTreeClassifier<a class=\"sk-estimator-doc-link fitted\" rel=\"noreferrer\" target=\"_blank\" href=\"https://scikit-learn.org/1.5/modules/generated/sklearn.tree.DecisionTreeClassifier.html\">?<span>Documentation for DecisionTreeClassifier</span></a><span class=\"sk-estimator-doc-link fitted\">i<span>Fitted</span></span></label><div class=\"sk-toggleable__content fitted\"><pre>DecisionTreeClassifier()</pre></div> </div></div></div></div>"
            ],
            "text/plain": [
              "DecisionTreeClassifier()"
            ]
          },
          "execution_count": 56,
          "metadata": {},
          "output_type": "execute_result"
        }
      ],
      "source": [
        "from sklearn.tree import DecisionTreeClassifier\n",
        "\n",
        "dt = DecisionTreeClassifier()\n",
        "dt.fit(features_df, cluster_labels)"
      ]
    },
    {
      "cell_type": "code",
      "execution_count": 57,
      "metadata": {},
      "outputs": [
        {
          "data": {
            "image/svg+xml": [
              "<?xml version=\"1.0\" encoding=\"UTF-8\" standalone=\"no\"?>\n",
              "<!DOCTYPE svg PUBLIC \"-//W3C//DTD SVG 1.1//EN\"\n",
              " \"http://www.w3.org/Graphics/SVG/1.1/DTD/svg11.dtd\">\n",
              "<!-- Generated by graphviz version 2.50.0 (0)\n",
              " -->\n",
              "<!-- Title: Tree Pages: 1 -->\n",
              "<svg width=\"1682pt\" height=\"671pt\"\n",
              " viewBox=\"0.00 0.00 1681.50 671.00\" xmlns=\"http://www.w3.org/2000/svg\" xmlns:xlink=\"http://www.w3.org/1999/xlink\">\n",
              "<g id=\"graph0\" class=\"graph\" transform=\"scale(1 1) rotate(0) translate(4 667)\">\n",
              "<title>Tree</title>\n",
              "<polygon fill=\"white\" stroke=\"transparent\" points=\"-4,4 -4,-667 1677.5,-667 1677.5,4 -4,4\"/>\n",
              "<!-- 0 -->\n",
              "<g id=\"node1\" class=\"node\">\n",
              "<title>0</title>\n",
              "<polygon fill=\"#fbdff5\" stroke=\"black\" points=\"1318.5,-663 1092.5,-663 1092.5,-580 1318.5,-580 1318.5,-663\"/>\n",
              "<text text-anchor=\"middle\" x=\"1205.5\" y=\"-647.8\" font-family=\"Helvetica,sans-Serif\" font-size=\"14.00\">income &lt;= 26200.0</text>\n",
              "<text text-anchor=\"middle\" x=\"1205.5\" y=\"-632.8\" font-family=\"Helvetica,sans-Serif\" font-size=\"14.00\">gini = 0.73</text>\n",
              "<text text-anchor=\"middle\" x=\"1205.5\" y=\"-617.8\" font-family=\"Helvetica,sans-Serif\" font-size=\"14.00\">samples = 167</text>\n",
              "<text text-anchor=\"middle\" x=\"1205.5\" y=\"-602.8\" font-family=\"Helvetica,sans-Serif\" font-size=\"14.00\">value = [43.0, 31.0, 27.0, 3.0, 63.0]</text>\n",
              "<text text-anchor=\"middle\" x=\"1205.5\" y=\"-587.8\" font-family=\"Helvetica,sans-Serif\" font-size=\"14.00\">class = 5</text>\n",
              "</g>\n",
              "<!-- 1 -->\n",
              "<g id=\"node2\" class=\"node\">\n",
              "<title>1</title>\n",
              "<polygon fill=\"#fad8f3\" stroke=\"black\" points=\"1044.5,-544 882.5,-544 882.5,-461 1044.5,-461 1044.5,-544\"/>\n",
              "<text text-anchor=\"middle\" x=\"963.5\" y=\"-528.8\" font-family=\"Helvetica,sans-Serif\" font-size=\"14.00\">imports &lt;= 37.65</text>\n",
              "<text text-anchor=\"middle\" x=\"963.5\" y=\"-513.8\" font-family=\"Helvetica,sans-Serif\" font-size=\"14.00\">gini = 0.635</text>\n",
              "<text text-anchor=\"middle\" x=\"963.5\" y=\"-498.8\" font-family=\"Helvetica,sans-Serif\" font-size=\"14.00\">samples = 128</text>\n",
              "<text text-anchor=\"middle\" x=\"963.5\" y=\"-483.8\" font-family=\"Helvetica,sans-Serif\" font-size=\"14.00\">value = [42, 0, 27, 0, 59]</text>\n",
              "<text text-anchor=\"middle\" x=\"963.5\" y=\"-468.8\" font-family=\"Helvetica,sans-Serif\" font-size=\"14.00\">class = 5</text>\n",
              "</g>\n",
              "<!-- 0&#45;&gt;1 -->\n",
              "<g id=\"edge1\" class=\"edge\">\n",
              "<title>0&#45;&gt;1</title>\n",
              "<path fill=\"none\" stroke=\"black\" d=\"M1121.54,-579.91C1099.7,-569.35 1076.08,-557.93 1053.93,-547.22\"/>\n",
              "<polygon fill=\"black\" stroke=\"black\" points=\"1055.39,-544.04 1044.86,-542.84 1052.34,-550.34 1055.39,-544.04\"/>\n",
              "<text text-anchor=\"middle\" x=\"1053.08\" y=\"-562.75\" font-family=\"Helvetica,sans-Serif\" font-size=\"14.00\">True</text>\n",
              "</g>\n",
              "<!-- 24 -->\n",
              "<g id=\"node25\" class=\"node\">\n",
              "<title>24</title>\n",
              "<polygon fill=\"#99eb66\" stroke=\"black\" points=\"1468,-544 1265,-544 1265,-461 1468,-461 1468,-544\"/>\n",
              "<text text-anchor=\"middle\" x=\"1366.5\" y=\"-528.8\" font-family=\"Helvetica,sans-Serif\" font-size=\"14.00\">imports &lt;= 114.25</text>\n",
              "<text text-anchor=\"middle\" x=\"1366.5\" y=\"-513.8\" font-family=\"Helvetica,sans-Serif\" font-size=\"14.00\">gini = 0.351</text>\n",
              "<text text-anchor=\"middle\" x=\"1366.5\" y=\"-498.8\" font-family=\"Helvetica,sans-Serif\" font-size=\"14.00\">samples = 39</text>\n",
              "<text text-anchor=\"middle\" x=\"1366.5\" y=\"-483.8\" font-family=\"Helvetica,sans-Serif\" font-size=\"14.00\">value = [1.0, 31.0, 0.0, 3.0, 4.0]</text>\n",
              "<text text-anchor=\"middle\" x=\"1366.5\" y=\"-468.8\" font-family=\"Helvetica,sans-Serif\" font-size=\"14.00\">class = 2</text>\n",
              "</g>\n",
              "<!-- 0&#45;&gt;24 -->\n",
              "<g id=\"edge24\" class=\"edge\">\n",
              "<title>0&#45;&gt;24</title>\n",
              "<path fill=\"none\" stroke=\"black\" d=\"M1261.36,-579.91C1274.6,-570.29 1288.82,-559.95 1302.39,-550.09\"/>\n",
              "<polygon fill=\"black\" stroke=\"black\" points=\"1304.71,-552.73 1310.74,-544.02 1300.59,-547.07 1304.71,-552.73\"/>\n",
              "<text text-anchor=\"middle\" x=\"1306.83\" y=\"-565.01\" font-family=\"Helvetica,sans-Serif\" font-size=\"14.00\">False</text>\n",
              "</g>\n",
              "<!-- 2 -->\n",
              "<g id=\"node3\" class=\"node\">\n",
              "<title>2</title>\n",
              "<polygon fill=\"#f0b78f\" stroke=\"black\" points=\"558,-425 403,-425 403,-342 558,-342 558,-425\"/>\n",
              "<text text-anchor=\"middle\" x=\"480.5\" y=\"-409.8\" font-family=\"Helvetica,sans-Serif\" font-size=\"14.00\">life_expec &lt;= 64.95</text>\n",
              "<text text-anchor=\"middle\" x=\"480.5\" y=\"-394.8\" font-family=\"Helvetica,sans-Serif\" font-size=\"14.00\">gini = 0.466</text>\n",
              "<text text-anchor=\"middle\" x=\"480.5\" y=\"-379.8\" font-family=\"Helvetica,sans-Serif\" font-size=\"14.00\">samples = 50</text>\n",
              "<text text-anchor=\"middle\" x=\"480.5\" y=\"-364.8\" font-family=\"Helvetica,sans-Serif\" font-size=\"14.00\">value = [34, 0, 13, 0, 3]</text>\n",
              "<text text-anchor=\"middle\" x=\"480.5\" y=\"-349.8\" font-family=\"Helvetica,sans-Serif\" font-size=\"14.00\">class = 1</text>\n",
              "</g>\n",
              "<!-- 1&#45;&gt;2 -->\n",
              "<g id=\"edge2\" class=\"edge\">\n",
              "<title>1&#45;&gt;2</title>\n",
              "<path fill=\"none\" stroke=\"black\" d=\"M882.38,-481.85C795.36,-460.77 657.63,-427.41 568.17,-405.74\"/>\n",
              "<polygon fill=\"black\" stroke=\"black\" points=\"568.85,-402.3 558.31,-403.35 567.21,-409.1 568.85,-402.3\"/>\n",
              "</g>\n",
              "<!-- 13 -->\n",
              "<g id=\"node14\" class=\"node\">\n",
              "<title>13</title>\n",
              "<polygon fill=\"#ee7dd6\" stroke=\"black\" points=\"1041,-425 886,-425 886,-342 1041,-342 1041,-425\"/>\n",
              "<text text-anchor=\"middle\" x=\"963.5\" y=\"-409.8\" font-family=\"Helvetica,sans-Serif\" font-size=\"14.00\">child_mort &lt;= 59.0</text>\n",
              "<text text-anchor=\"middle\" x=\"963.5\" y=\"-394.8\" font-family=\"Helvetica,sans-Serif\" font-size=\"14.00\">gini = 0.442</text>\n",
              "<text text-anchor=\"middle\" x=\"963.5\" y=\"-379.8\" font-family=\"Helvetica,sans-Serif\" font-size=\"14.00\">samples = 78</text>\n",
              "<text text-anchor=\"middle\" x=\"963.5\" y=\"-364.8\" font-family=\"Helvetica,sans-Serif\" font-size=\"14.00\">value = [8, 0, 14, 0, 56]</text>\n",
              "<text text-anchor=\"middle\" x=\"963.5\" y=\"-349.8\" font-family=\"Helvetica,sans-Serif\" font-size=\"14.00\">class = 5</text>\n",
              "</g>\n",
              "<!-- 1&#45;&gt;13 -->\n",
              "<g id=\"edge13\" class=\"edge\">\n",
              "<title>1&#45;&gt;13</title>\n",
              "<path fill=\"none\" stroke=\"black\" d=\"M963.5,-460.91C963.5,-452.65 963.5,-443.86 963.5,-435.3\"/>\n",
              "<polygon fill=\"black\" stroke=\"black\" points=\"967,-435.02 963.5,-425.02 960,-435.02 967,-435.02\"/>\n",
              "</g>\n",
              "<!-- 3 -->\n",
              "<g id=\"node4\" class=\"node\">\n",
              "<title>3</title>\n",
              "<polygon fill=\"#72ecd6\" stroke=\"black\" points=\"308,-306 161,-306 161,-223 308,-223 308,-306\"/>\n",
              "<text text-anchor=\"middle\" x=\"234.5\" y=\"-290.8\" font-family=\"Helvetica,sans-Serif\" font-size=\"14.00\">imports &lt;= 24.9</text>\n",
              "<text text-anchor=\"middle\" x=\"234.5\" y=\"-275.8\" font-family=\"Helvetica,sans-Serif\" font-size=\"14.00\">gini = 0.381</text>\n",
              "<text text-anchor=\"middle\" x=\"234.5\" y=\"-260.8\" font-family=\"Helvetica,sans-Serif\" font-size=\"14.00\">samples = 17</text>\n",
              "<text text-anchor=\"middle\" x=\"234.5\" y=\"-245.8\" font-family=\"Helvetica,sans-Serif\" font-size=\"14.00\">value = [3, 0, 13, 0, 1]</text>\n",
              "<text text-anchor=\"middle\" x=\"234.5\" y=\"-230.8\" font-family=\"Helvetica,sans-Serif\" font-size=\"14.00\">class = 3</text>\n",
              "</g>\n",
              "<!-- 2&#45;&gt;3 -->\n",
              "<g id=\"edge3\" class=\"edge\">\n",
              "<title>2&#45;&gt;3</title>\n",
              "<path fill=\"none\" stroke=\"black\" d=\"M402.66,-345.48C375.47,-332.55 344.86,-317.99 317.29,-304.87\"/>\n",
              "<polygon fill=\"black\" stroke=\"black\" points=\"318.59,-301.62 308.06,-300.48 315.59,-307.94 318.59,-301.62\"/>\n",
              "</g>\n",
              "<!-- 8 -->\n",
              "<g id=\"node9\" class=\"node\">\n",
              "<title>8</title>\n",
              "<polygon fill=\"#e78946\" stroke=\"black\" points=\"554,-306 407,-306 407,-223 554,-223 554,-306\"/>\n",
              "<text text-anchor=\"middle\" x=\"480.5\" y=\"-290.8\" font-family=\"Helvetica,sans-Serif\" font-size=\"14.00\">exports &lt;= 49.25</text>\n",
              "<text text-anchor=\"middle\" x=\"480.5\" y=\"-275.8\" font-family=\"Helvetica,sans-Serif\" font-size=\"14.00\">gini = 0.114</text>\n",
              "<text text-anchor=\"middle\" x=\"480.5\" y=\"-260.8\" font-family=\"Helvetica,sans-Serif\" font-size=\"14.00\">samples = 33</text>\n",
              "<text text-anchor=\"middle\" x=\"480.5\" y=\"-245.8\" font-family=\"Helvetica,sans-Serif\" font-size=\"14.00\">value = [31, 0, 0, 0, 2]</text>\n",
              "<text text-anchor=\"middle\" x=\"480.5\" y=\"-230.8\" font-family=\"Helvetica,sans-Serif\" font-size=\"14.00\">class = 1</text>\n",
              "</g>\n",
              "<!-- 2&#45;&gt;8 -->\n",
              "<g id=\"edge8\" class=\"edge\">\n",
              "<title>2&#45;&gt;8</title>\n",
              "<path fill=\"none\" stroke=\"black\" d=\"M480.5,-341.91C480.5,-333.65 480.5,-324.86 480.5,-316.3\"/>\n",
              "<polygon fill=\"black\" stroke=\"black\" points=\"484,-316.02 480.5,-306.02 477,-316.02 484,-316.02\"/>\n",
              "</g>\n",
              "<!-- 4 -->\n",
              "<g id=\"node5\" class=\"node\">\n",
              "<title>4</title>\n",
              "<polygon fill=\"#e58139\" stroke=\"black\" points=\"142.5,-179.5 2.5,-179.5 2.5,-111.5 142.5,-111.5 142.5,-179.5\"/>\n",
              "<text text-anchor=\"middle\" x=\"72.5\" y=\"-164.3\" font-family=\"Helvetica,sans-Serif\" font-size=\"14.00\">gini = 0.0</text>\n",
              "<text text-anchor=\"middle\" x=\"72.5\" y=\"-149.3\" font-family=\"Helvetica,sans-Serif\" font-size=\"14.00\">samples = 3</text>\n",
              "<text text-anchor=\"middle\" x=\"72.5\" y=\"-134.3\" font-family=\"Helvetica,sans-Serif\" font-size=\"14.00\">value = [3, 0, 0, 0, 0]</text>\n",
              "<text text-anchor=\"middle\" x=\"72.5\" y=\"-119.3\" font-family=\"Helvetica,sans-Serif\" font-size=\"14.00\">class = 1</text>\n",
              "</g>\n",
              "<!-- 3&#45;&gt;4 -->\n",
              "<g id=\"edge4\" class=\"edge\">\n",
              "<title>3&#45;&gt;4</title>\n",
              "<path fill=\"none\" stroke=\"black\" d=\"M178.29,-222.91C161.64,-210.88 143.44,-197.73 126.9,-185.79\"/>\n",
              "<polygon fill=\"black\" stroke=\"black\" points=\"128.58,-182.68 118.42,-179.67 124.48,-188.36 128.58,-182.68\"/>\n",
              "</g>\n",
              "<!-- 5 -->\n",
              "<g id=\"node6\" class=\"node\">\n",
              "<title>5</title>\n",
              "<polygon fill=\"#48e7c9\" stroke=\"black\" points=\"308,-187 161,-187 161,-104 308,-104 308,-187\"/>\n",
              "<text text-anchor=\"middle\" x=\"234.5\" y=\"-171.8\" font-family=\"Helvetica,sans-Serif\" font-size=\"14.00\">income &lt;= 7640.0</text>\n",
              "<text text-anchor=\"middle\" x=\"234.5\" y=\"-156.8\" font-family=\"Helvetica,sans-Serif\" font-size=\"14.00\">gini = 0.133</text>\n",
              "<text text-anchor=\"middle\" x=\"234.5\" y=\"-141.8\" font-family=\"Helvetica,sans-Serif\" font-size=\"14.00\">samples = 14</text>\n",
              "<text text-anchor=\"middle\" x=\"234.5\" y=\"-126.8\" font-family=\"Helvetica,sans-Serif\" font-size=\"14.00\">value = [0, 0, 13, 0, 1]</text>\n",
              "<text text-anchor=\"middle\" x=\"234.5\" y=\"-111.8\" font-family=\"Helvetica,sans-Serif\" font-size=\"14.00\">class = 3</text>\n",
              "</g>\n",
              "<!-- 3&#45;&gt;5 -->\n",
              "<g id=\"edge5\" class=\"edge\">\n",
              "<title>3&#45;&gt;5</title>\n",
              "<path fill=\"none\" stroke=\"black\" d=\"M234.5,-222.91C234.5,-214.65 234.5,-205.86 234.5,-197.3\"/>\n",
              "<polygon fill=\"black\" stroke=\"black\" points=\"238,-197.02 234.5,-187.02 231,-197.02 238,-197.02\"/>\n",
              "</g>\n",
              "<!-- 6 -->\n",
              "<g id=\"node7\" class=\"node\">\n",
              "<title>6</title>\n",
              "<polygon fill=\"#39e5c5\" stroke=\"black\" points=\"147,-68 0,-68 0,0 147,0 147,-68\"/>\n",
              "<text text-anchor=\"middle\" x=\"73.5\" y=\"-52.8\" font-family=\"Helvetica,sans-Serif\" font-size=\"14.00\">gini = 0.0</text>\n",
              "<text text-anchor=\"middle\" x=\"73.5\" y=\"-37.8\" font-family=\"Helvetica,sans-Serif\" font-size=\"14.00\">samples = 13</text>\n",
              "<text text-anchor=\"middle\" x=\"73.5\" y=\"-22.8\" font-family=\"Helvetica,sans-Serif\" font-size=\"14.00\">value = [0, 0, 13, 0, 0]</text>\n",
              "<text text-anchor=\"middle\" x=\"73.5\" y=\"-7.8\" font-family=\"Helvetica,sans-Serif\" font-size=\"14.00\">class = 3</text>\n",
              "</g>\n",
              "<!-- 5&#45;&gt;6 -->\n",
              "<g id=\"edge6\" class=\"edge\">\n",
              "<title>5&#45;&gt;6</title>\n",
              "<path fill=\"none\" stroke=\"black\" d=\"M174.55,-103.73C160.13,-93.92 144.76,-83.46 130.47,-73.75\"/>\n",
              "<polygon fill=\"black\" stroke=\"black\" points=\"132.44,-70.85 122.2,-68.13 128.51,-76.64 132.44,-70.85\"/>\n",
              "</g>\n",
              "<!-- 7 -->\n",
              "<g id=\"node8\" class=\"node\">\n",
              "<title>7</title>\n",
              "<polygon fill=\"#e539c0\" stroke=\"black\" points=\"305.5,-68 165.5,-68 165.5,0 305.5,0 305.5,-68\"/>\n",
              "<text text-anchor=\"middle\" x=\"235.5\" y=\"-52.8\" font-family=\"Helvetica,sans-Serif\" font-size=\"14.00\">gini = 0.0</text>\n",
              "<text text-anchor=\"middle\" x=\"235.5\" y=\"-37.8\" font-family=\"Helvetica,sans-Serif\" font-size=\"14.00\">samples = 1</text>\n",
              "<text text-anchor=\"middle\" x=\"235.5\" y=\"-22.8\" font-family=\"Helvetica,sans-Serif\" font-size=\"14.00\">value = [0, 0, 0, 0, 1]</text>\n",
              "<text text-anchor=\"middle\" x=\"235.5\" y=\"-7.8\" font-family=\"Helvetica,sans-Serif\" font-size=\"14.00\">class = 5</text>\n",
              "</g>\n",
              "<!-- 5&#45;&gt;7 -->\n",
              "<g id=\"edge7\" class=\"edge\">\n",
              "<title>5&#45;&gt;7</title>\n",
              "<path fill=\"none\" stroke=\"black\" d=\"M234.87,-103.73C234.95,-95.52 235.03,-86.86 235.1,-78.56\"/>\n",
              "<polygon fill=\"black\" stroke=\"black\" points=\"238.6,-78.33 235.2,-68.3 231.6,-78.27 238.6,-78.33\"/>\n",
              "</g>\n",
              "<!-- 9 -->\n",
              "<g id=\"node10\" class=\"node\">\n",
              "<title>9</title>\n",
              "<polygon fill=\"#e6853f\" stroke=\"black\" points=\"473,-187 326,-187 326,-104 473,-104 473,-187\"/>\n",
              "<text text-anchor=\"middle\" x=\"399.5\" y=\"-171.8\" font-family=\"Helvetica,sans-Serif\" font-size=\"14.00\">life_expec &lt;= 79.75</text>\n",
              "<text text-anchor=\"middle\" x=\"399.5\" y=\"-156.8\" font-family=\"Helvetica,sans-Serif\" font-size=\"14.00\">gini = 0.061</text>\n",
              "<text text-anchor=\"middle\" x=\"399.5\" y=\"-141.8\" font-family=\"Helvetica,sans-Serif\" font-size=\"14.00\">samples = 32</text>\n",
              "<text text-anchor=\"middle\" x=\"399.5\" y=\"-126.8\" font-family=\"Helvetica,sans-Serif\" font-size=\"14.00\">value = [31, 0, 0, 0, 1]</text>\n",
              "<text text-anchor=\"middle\" x=\"399.5\" y=\"-111.8\" font-family=\"Helvetica,sans-Serif\" font-size=\"14.00\">class = 1</text>\n",
              "</g>\n",
              "<!-- 8&#45;&gt;9 -->\n",
              "<g id=\"edge9\" class=\"edge\">\n",
              "<title>8&#45;&gt;9</title>\n",
              "<path fill=\"none\" stroke=\"black\" d=\"M452.4,-222.91C446.24,-214.01 439.66,-204.51 433.31,-195.33\"/>\n",
              "<polygon fill=\"black\" stroke=\"black\" points=\"436.12,-193.25 427.55,-187.02 430.37,-197.24 436.12,-193.25\"/>\n",
              "</g>\n",
              "<!-- 12 -->\n",
              "<g id=\"node13\" class=\"node\">\n",
              "<title>12</title>\n",
              "<polygon fill=\"#e539c0\" stroke=\"black\" points=\"631.5,-179.5 491.5,-179.5 491.5,-111.5 631.5,-111.5 631.5,-179.5\"/>\n",
              "<text text-anchor=\"middle\" x=\"561.5\" y=\"-164.3\" font-family=\"Helvetica,sans-Serif\" font-size=\"14.00\">gini = 0.0</text>\n",
              "<text text-anchor=\"middle\" x=\"561.5\" y=\"-149.3\" font-family=\"Helvetica,sans-Serif\" font-size=\"14.00\">samples = 1</text>\n",
              "<text text-anchor=\"middle\" x=\"561.5\" y=\"-134.3\" font-family=\"Helvetica,sans-Serif\" font-size=\"14.00\">value = [0, 0, 0, 0, 1]</text>\n",
              "<text text-anchor=\"middle\" x=\"561.5\" y=\"-119.3\" font-family=\"Helvetica,sans-Serif\" font-size=\"14.00\">class = 5</text>\n",
              "</g>\n",
              "<!-- 8&#45;&gt;12 -->\n",
              "<g id=\"edge12\" class=\"edge\">\n",
              "<title>8&#45;&gt;12</title>\n",
              "<path fill=\"none\" stroke=\"black\" d=\"M508.6,-222.91C516.39,-211.65 524.86,-199.42 532.7,-188.11\"/>\n",
              "<polygon fill=\"black\" stroke=\"black\" points=\"535.72,-189.88 538.54,-179.67 529.97,-185.9 535.72,-189.88\"/>\n",
              "</g>\n",
              "<!-- 10 -->\n",
              "<g id=\"node11\" class=\"node\">\n",
              "<title>10</title>\n",
              "<polygon fill=\"#e58139\" stroke=\"black\" points=\"472,-68 325,-68 325,0 472,0 472,-68\"/>\n",
              "<text text-anchor=\"middle\" x=\"398.5\" y=\"-52.8\" font-family=\"Helvetica,sans-Serif\" font-size=\"14.00\">gini = 0.0</text>\n",
              "<text text-anchor=\"middle\" x=\"398.5\" y=\"-37.8\" font-family=\"Helvetica,sans-Serif\" font-size=\"14.00\">samples = 31</text>\n",
              "<text text-anchor=\"middle\" x=\"398.5\" y=\"-22.8\" font-family=\"Helvetica,sans-Serif\" font-size=\"14.00\">value = [31, 0, 0, 0, 0]</text>\n",
              "<text text-anchor=\"middle\" x=\"398.5\" y=\"-7.8\" font-family=\"Helvetica,sans-Serif\" font-size=\"14.00\">class = 1</text>\n",
              "</g>\n",
              "<!-- 9&#45;&gt;10 -->\n",
              "<g id=\"edge10\" class=\"edge\">\n",
              "<title>9&#45;&gt;10</title>\n",
              "<path fill=\"none\" stroke=\"black\" d=\"M399.13,-103.73C399.05,-95.52 398.97,-86.86 398.9,-78.56\"/>\n",
              "<polygon fill=\"black\" stroke=\"black\" points=\"402.4,-78.27 398.8,-68.3 395.4,-78.33 402.4,-78.27\"/>\n",
              "</g>\n",
              "<!-- 11 -->\n",
              "<g id=\"node12\" class=\"node\">\n",
              "<title>11</title>\n",
              "<polygon fill=\"#e539c0\" stroke=\"black\" points=\"630.5,-68 490.5,-68 490.5,0 630.5,0 630.5,-68\"/>\n",
              "<text text-anchor=\"middle\" x=\"560.5\" y=\"-52.8\" font-family=\"Helvetica,sans-Serif\" font-size=\"14.00\">gini = 0.0</text>\n",
              "<text text-anchor=\"middle\" x=\"560.5\" y=\"-37.8\" font-family=\"Helvetica,sans-Serif\" font-size=\"14.00\">samples = 1</text>\n",
              "<text text-anchor=\"middle\" x=\"560.5\" y=\"-22.8\" font-family=\"Helvetica,sans-Serif\" font-size=\"14.00\">value = [0, 0, 0, 0, 1]</text>\n",
              "<text text-anchor=\"middle\" x=\"560.5\" y=\"-7.8\" font-family=\"Helvetica,sans-Serif\" font-size=\"14.00\">class = 5</text>\n",
              "</g>\n",
              "<!-- 9&#45;&gt;11 -->\n",
              "<g id=\"edge11\" class=\"edge\">\n",
              "<title>9&#45;&gt;11</title>\n",
              "<path fill=\"none\" stroke=\"black\" d=\"M459.45,-103.73C473.87,-93.92 489.24,-83.46 503.53,-73.75\"/>\n",
              "<polygon fill=\"black\" stroke=\"black\" points=\"505.49,-76.64 511.8,-68.13 501.56,-70.85 505.49,-76.64\"/>\n",
              "</g>\n",
              "<!-- 14 -->\n",
              "<g id=\"node15\" class=\"node\">\n",
              "<title>14</title>\n",
              "<polygon fill=\"#e640c2\" stroke=\"black\" points=\"955,-306 808,-306 808,-223 955,-223 955,-306\"/>\n",
              "<text text-anchor=\"middle\" x=\"881.5\" y=\"-290.8\" font-family=\"Helvetica,sans-Serif\" font-size=\"14.00\">gdpp &lt;= 762.0</text>\n",
              "<text text-anchor=\"middle\" x=\"881.5\" y=\"-275.8\" font-family=\"Helvetica,sans-Serif\" font-size=\"14.00\">gini = 0.07</text>\n",
              "<text text-anchor=\"middle\" x=\"881.5\" y=\"-260.8\" font-family=\"Helvetica,sans-Serif\" font-size=\"14.00\">samples = 55</text>\n",
              "<text text-anchor=\"middle\" x=\"881.5\" y=\"-245.8\" font-family=\"Helvetica,sans-Serif\" font-size=\"14.00\">value = [2, 0, 0, 0, 53]</text>\n",
              "<text text-anchor=\"middle\" x=\"881.5\" y=\"-230.8\" font-family=\"Helvetica,sans-Serif\" font-size=\"14.00\">class = 5</text>\n",
              "</g>\n",
              "<!-- 13&#45;&gt;14 -->\n",
              "<g id=\"edge14\" class=\"edge\">\n",
              "<title>13&#45;&gt;14</title>\n",
              "<path fill=\"none\" stroke=\"black\" d=\"M935.05,-341.91C928.82,-333.01 922.16,-323.51 915.72,-314.33\"/>\n",
              "<polygon fill=\"black\" stroke=\"black\" points=\"918.5,-312.2 909.9,-306.02 912.77,-316.22 918.5,-312.2\"/>\n",
              "</g>\n",
              "<!-- 19 -->\n",
              "<g id=\"node20\" class=\"node\">\n",
              "<title>19</title>\n",
              "<polygon fill=\"#a2f3e4\" stroke=\"black\" points=\"1120,-306 973,-306 973,-223 1120,-223 1120,-306\"/>\n",
              "<text text-anchor=\"middle\" x=\"1046.5\" y=\"-290.8\" font-family=\"Helvetica,sans-Serif\" font-size=\"14.00\">income &lt;= 2875.0</text>\n",
              "<text text-anchor=\"middle\" x=\"1046.5\" y=\"-275.8\" font-family=\"Helvetica,sans-Serif\" font-size=\"14.00\">gini = 0.544</text>\n",
              "<text text-anchor=\"middle\" x=\"1046.5\" y=\"-260.8\" font-family=\"Helvetica,sans-Serif\" font-size=\"14.00\">samples = 23</text>\n",
              "<text text-anchor=\"middle\" x=\"1046.5\" y=\"-245.8\" font-family=\"Helvetica,sans-Serif\" font-size=\"14.00\">value = [6, 0, 14, 0, 3]</text>\n",
              "<text text-anchor=\"middle\" x=\"1046.5\" y=\"-230.8\" font-family=\"Helvetica,sans-Serif\" font-size=\"14.00\">class = 3</text>\n",
              "</g>\n",
              "<!-- 13&#45;&gt;19 -->\n",
              "<g id=\"edge19\" class=\"edge\">\n",
              "<title>13&#45;&gt;19</title>\n",
              "<path fill=\"none\" stroke=\"black\" d=\"M992.3,-341.91C998.61,-333.01 1005.35,-323.51 1011.86,-314.33\"/>\n",
              "<polygon fill=\"black\" stroke=\"black\" points=\"1014.82,-316.2 1017.75,-306.02 1009.11,-312.15 1014.82,-316.2\"/>\n",
              "</g>\n",
              "<!-- 15 -->\n",
              "<g id=\"node16\" class=\"node\">\n",
              "<title>15</title>\n",
              "<polygon fill=\"#e58139\" stroke=\"black\" points=\"789.5,-179.5 649.5,-179.5 649.5,-111.5 789.5,-111.5 789.5,-179.5\"/>\n",
              "<text text-anchor=\"middle\" x=\"719.5\" y=\"-164.3\" font-family=\"Helvetica,sans-Serif\" font-size=\"14.00\">gini = 0.0</text>\n",
              "<text text-anchor=\"middle\" x=\"719.5\" y=\"-149.3\" font-family=\"Helvetica,sans-Serif\" font-size=\"14.00\">samples = 1</text>\n",
              "<text text-anchor=\"middle\" x=\"719.5\" y=\"-134.3\" font-family=\"Helvetica,sans-Serif\" font-size=\"14.00\">value = [1, 0, 0, 0, 0]</text>\n",
              "<text text-anchor=\"middle\" x=\"719.5\" y=\"-119.3\" font-family=\"Helvetica,sans-Serif\" font-size=\"14.00\">class = 1</text>\n",
              "</g>\n",
              "<!-- 14&#45;&gt;15 -->\n",
              "<g id=\"edge15\" class=\"edge\">\n",
              "<title>14&#45;&gt;15</title>\n",
              "<path fill=\"none\" stroke=\"black\" d=\"M825.29,-222.91C808.64,-210.88 790.44,-197.73 773.9,-185.79\"/>\n",
              "<polygon fill=\"black\" stroke=\"black\" points=\"775.58,-182.68 765.42,-179.67 771.48,-188.36 775.58,-182.68\"/>\n",
              "</g>\n",
              "<!-- 16 -->\n",
              "<g id=\"node17\" class=\"node\">\n",
              "<title>16</title>\n",
              "<polygon fill=\"#e53dc1\" stroke=\"black\" points=\"955,-187 808,-187 808,-104 955,-104 955,-187\"/>\n",
              "<text text-anchor=\"middle\" x=\"881.5\" y=\"-171.8\" font-family=\"Helvetica,sans-Serif\" font-size=\"14.00\">inflation &lt;= 27.15</text>\n",
              "<text text-anchor=\"middle\" x=\"881.5\" y=\"-156.8\" font-family=\"Helvetica,sans-Serif\" font-size=\"14.00\">gini = 0.036</text>\n",
              "<text text-anchor=\"middle\" x=\"881.5\" y=\"-141.8\" font-family=\"Helvetica,sans-Serif\" font-size=\"14.00\">samples = 54</text>\n",
              "<text text-anchor=\"middle\" x=\"881.5\" y=\"-126.8\" font-family=\"Helvetica,sans-Serif\" font-size=\"14.00\">value = [1, 0, 0, 0, 53]</text>\n",
              "<text text-anchor=\"middle\" x=\"881.5\" y=\"-111.8\" font-family=\"Helvetica,sans-Serif\" font-size=\"14.00\">class = 5</text>\n",
              "</g>\n",
              "<!-- 14&#45;&gt;16 -->\n",
              "<g id=\"edge16\" class=\"edge\">\n",
              "<title>14&#45;&gt;16</title>\n",
              "<path fill=\"none\" stroke=\"black\" d=\"M881.5,-222.91C881.5,-214.65 881.5,-205.86 881.5,-197.3\"/>\n",
              "<polygon fill=\"black\" stroke=\"black\" points=\"885,-197.02 881.5,-187.02 878,-197.02 885,-197.02\"/>\n",
              "</g>\n",
              "<!-- 17 -->\n",
              "<g id=\"node18\" class=\"node\">\n",
              "<title>17</title>\n",
              "<polygon fill=\"#e539c0\" stroke=\"black\" points=\"796,-68 649,-68 649,0 796,0 796,-68\"/>\n",
              "<text text-anchor=\"middle\" x=\"722.5\" y=\"-52.8\" font-family=\"Helvetica,sans-Serif\" font-size=\"14.00\">gini = 0.0</text>\n",
              "<text text-anchor=\"middle\" x=\"722.5\" y=\"-37.8\" font-family=\"Helvetica,sans-Serif\" font-size=\"14.00\">samples = 53</text>\n",
              "<text text-anchor=\"middle\" x=\"722.5\" y=\"-22.8\" font-family=\"Helvetica,sans-Serif\" font-size=\"14.00\">value = [0, 0, 0, 0, 53]</text>\n",
              "<text text-anchor=\"middle\" x=\"722.5\" y=\"-7.8\" font-family=\"Helvetica,sans-Serif\" font-size=\"14.00\">class = 5</text>\n",
              "</g>\n",
              "<!-- 16&#45;&gt;17 -->\n",
              "<g id=\"edge17\" class=\"edge\">\n",
              "<title>16&#45;&gt;17</title>\n",
              "<path fill=\"none\" stroke=\"black\" d=\"M822.29,-103.73C808.18,-94.01 793.16,-83.66 779.16,-74.02\"/>\n",
              "<polygon fill=\"black\" stroke=\"black\" points=\"780.82,-70.91 770.6,-68.13 776.85,-76.68 780.82,-70.91\"/>\n",
              "</g>\n",
              "<!-- 18 -->\n",
              "<g id=\"node19\" class=\"node\">\n",
              "<title>18</title>\n",
              "<polygon fill=\"#e58139\" stroke=\"black\" points=\"954.5,-68 814.5,-68 814.5,0 954.5,0 954.5,-68\"/>\n",
              "<text text-anchor=\"middle\" x=\"884.5\" y=\"-52.8\" font-family=\"Helvetica,sans-Serif\" font-size=\"14.00\">gini = 0.0</text>\n",
              "<text text-anchor=\"middle\" x=\"884.5\" y=\"-37.8\" font-family=\"Helvetica,sans-Serif\" font-size=\"14.00\">samples = 1</text>\n",
              "<text text-anchor=\"middle\" x=\"884.5\" y=\"-22.8\" font-family=\"Helvetica,sans-Serif\" font-size=\"14.00\">value = [1, 0, 0, 0, 0]</text>\n",
              "<text text-anchor=\"middle\" x=\"884.5\" y=\"-7.8\" font-family=\"Helvetica,sans-Serif\" font-size=\"14.00\">class = 1</text>\n",
              "</g>\n",
              "<!-- 16&#45;&gt;18 -->\n",
              "<g id=\"edge18\" class=\"edge\">\n",
              "<title>16&#45;&gt;18</title>\n",
              "<path fill=\"none\" stroke=\"black\" d=\"M882.62,-103.73C882.84,-95.52 883.08,-86.86 883.31,-78.56\"/>\n",
              "<polygon fill=\"black\" stroke=\"black\" points=\"886.81,-78.39 883.59,-68.3 879.82,-78.2 886.81,-78.39\"/>\n",
              "</g>\n",
              "<!-- 20 -->\n",
              "<g id=\"node21\" class=\"node\">\n",
              "<title>20</title>\n",
              "<polygon fill=\"#63ebd1\" stroke=\"black\" points=\"1120,-187 973,-187 973,-104 1120,-104 1120,-187\"/>\n",
              "<text text-anchor=\"middle\" x=\"1046.5\" y=\"-171.8\" font-family=\"Helvetica,sans-Serif\" font-size=\"14.00\">imports &lt;= 72.3</text>\n",
              "<text text-anchor=\"middle\" x=\"1046.5\" y=\"-156.8\" font-family=\"Helvetica,sans-Serif\" font-size=\"14.00\">gini = 0.291</text>\n",
              "<text text-anchor=\"middle\" x=\"1046.5\" y=\"-141.8\" font-family=\"Helvetica,sans-Serif\" font-size=\"14.00\">samples = 17</text>\n",
              "<text text-anchor=\"middle\" x=\"1046.5\" y=\"-126.8\" font-family=\"Helvetica,sans-Serif\" font-size=\"14.00\">value = [0, 0, 14, 0, 3]</text>\n",
              "<text text-anchor=\"middle\" x=\"1046.5\" y=\"-111.8\" font-family=\"Helvetica,sans-Serif\" font-size=\"14.00\">class = 3</text>\n",
              "</g>\n",
              "<!-- 19&#45;&gt;20 -->\n",
              "<g id=\"edge20\" class=\"edge\">\n",
              "<title>19&#45;&gt;20</title>\n",
              "<path fill=\"none\" stroke=\"black\" d=\"M1046.5,-222.91C1046.5,-214.65 1046.5,-205.86 1046.5,-197.3\"/>\n",
              "<polygon fill=\"black\" stroke=\"black\" points=\"1050,-197.02 1046.5,-187.02 1043,-197.02 1050,-197.02\"/>\n",
              "</g>\n",
              "<!-- 23 -->\n",
              "<g id=\"node24\" class=\"node\">\n",
              "<title>23</title>\n",
              "<polygon fill=\"#e58139\" stroke=\"black\" points=\"1278.5,-179.5 1138.5,-179.5 1138.5,-111.5 1278.5,-111.5 1278.5,-179.5\"/>\n",
              "<text text-anchor=\"middle\" x=\"1208.5\" y=\"-164.3\" font-family=\"Helvetica,sans-Serif\" font-size=\"14.00\">gini = 0.0</text>\n",
              "<text text-anchor=\"middle\" x=\"1208.5\" y=\"-149.3\" font-family=\"Helvetica,sans-Serif\" font-size=\"14.00\">samples = 6</text>\n",
              "<text text-anchor=\"middle\" x=\"1208.5\" y=\"-134.3\" font-family=\"Helvetica,sans-Serif\" font-size=\"14.00\">value = [6, 0, 0, 0, 0]</text>\n",
              "<text text-anchor=\"middle\" x=\"1208.5\" y=\"-119.3\" font-family=\"Helvetica,sans-Serif\" font-size=\"14.00\">class = 1</text>\n",
              "</g>\n",
              "<!-- 19&#45;&gt;23 -->\n",
              "<g id=\"edge23\" class=\"edge\">\n",
              "<title>19&#45;&gt;23</title>\n",
              "<path fill=\"none\" stroke=\"black\" d=\"M1102.71,-222.91C1119.36,-210.88 1137.56,-197.73 1154.1,-185.79\"/>\n",
              "<polygon fill=\"black\" stroke=\"black\" points=\"1156.52,-188.36 1162.58,-179.67 1152.42,-182.68 1156.52,-188.36\"/>\n",
              "</g>\n",
              "<!-- 21 -->\n",
              "<g id=\"node22\" class=\"node\">\n",
              "<title>21</title>\n",
              "<polygon fill=\"#39e5c5\" stroke=\"black\" points=\"1120,-68 973,-68 973,0 1120,0 1120,-68\"/>\n",
              "<text text-anchor=\"middle\" x=\"1046.5\" y=\"-52.8\" font-family=\"Helvetica,sans-Serif\" font-size=\"14.00\">gini = 0.0</text>\n",
              "<text text-anchor=\"middle\" x=\"1046.5\" y=\"-37.8\" font-family=\"Helvetica,sans-Serif\" font-size=\"14.00\">samples = 14</text>\n",
              "<text text-anchor=\"middle\" x=\"1046.5\" y=\"-22.8\" font-family=\"Helvetica,sans-Serif\" font-size=\"14.00\">value = [0, 0, 14, 0, 0]</text>\n",
              "<text text-anchor=\"middle\" x=\"1046.5\" y=\"-7.8\" font-family=\"Helvetica,sans-Serif\" font-size=\"14.00\">class = 3</text>\n",
              "</g>\n",
              "<!-- 20&#45;&gt;21 -->\n",
              "<g id=\"edge21\" class=\"edge\">\n",
              "<title>20&#45;&gt;21</title>\n",
              "<path fill=\"none\" stroke=\"black\" d=\"M1046.5,-103.73C1046.5,-95.52 1046.5,-86.86 1046.5,-78.56\"/>\n",
              "<polygon fill=\"black\" stroke=\"black\" points=\"1050,-78.3 1046.5,-68.3 1043,-78.3 1050,-78.3\"/>\n",
              "</g>\n",
              "<!-- 22 -->\n",
              "<g id=\"node23\" class=\"node\">\n",
              "<title>22</title>\n",
              "<polygon fill=\"#e539c0\" stroke=\"black\" points=\"1278.5,-68 1138.5,-68 1138.5,0 1278.5,0 1278.5,-68\"/>\n",
              "<text text-anchor=\"middle\" x=\"1208.5\" y=\"-52.8\" font-family=\"Helvetica,sans-Serif\" font-size=\"14.00\">gini = 0.0</text>\n",
              "<text text-anchor=\"middle\" x=\"1208.5\" y=\"-37.8\" font-family=\"Helvetica,sans-Serif\" font-size=\"14.00\">samples = 3</text>\n",
              "<text text-anchor=\"middle\" x=\"1208.5\" y=\"-22.8\" font-family=\"Helvetica,sans-Serif\" font-size=\"14.00\">value = [0, 0, 0, 0, 3]</text>\n",
              "<text text-anchor=\"middle\" x=\"1208.5\" y=\"-7.8\" font-family=\"Helvetica,sans-Serif\" font-size=\"14.00\">class = 5</text>\n",
              "</g>\n",
              "<!-- 20&#45;&gt;22 -->\n",
              "<g id=\"edge22\" class=\"edge\">\n",
              "<title>20&#45;&gt;22</title>\n",
              "<path fill=\"none\" stroke=\"black\" d=\"M1106.82,-103.73C1121.34,-93.92 1136.8,-83.46 1151.17,-73.75\"/>\n",
              "<polygon fill=\"black\" stroke=\"black\" points=\"1153.17,-76.62 1159.49,-68.13 1149.25,-70.83 1153.17,-76.62\"/>\n",
              "</g>\n",
              "<!-- 25 -->\n",
              "<g id=\"node26\" class=\"node\">\n",
              "<title>25</title>\n",
              "<polygon fill=\"#90e958\" stroke=\"black\" points=\"1440,-425 1293,-425 1293,-342 1440,-342 1440,-425\"/>\n",
              "<text text-anchor=\"middle\" x=\"1366.5\" y=\"-409.8\" font-family=\"Helvetica,sans-Serif\" font-size=\"14.00\">income &lt;= 34850.0</text>\n",
              "<text text-anchor=\"middle\" x=\"1366.5\" y=\"-394.8\" font-family=\"Helvetica,sans-Serif\" font-size=\"14.00\">gini = 0.245</text>\n",
              "<text text-anchor=\"middle\" x=\"1366.5\" y=\"-379.8\" font-family=\"Helvetica,sans-Serif\" font-size=\"14.00\">samples = 36</text>\n",
              "<text text-anchor=\"middle\" x=\"1366.5\" y=\"-364.8\" font-family=\"Helvetica,sans-Serif\" font-size=\"14.00\">value = [1, 31, 0, 0, 4]</text>\n",
              "<text text-anchor=\"middle\" x=\"1366.5\" y=\"-349.8\" font-family=\"Helvetica,sans-Serif\" font-size=\"14.00\">class = 2</text>\n",
              "</g>\n",
              "<!-- 24&#45;&gt;25 -->\n",
              "<g id=\"edge25\" class=\"edge\">\n",
              "<title>24&#45;&gt;25</title>\n",
              "<path fill=\"none\" stroke=\"black\" d=\"M1366.5,-460.91C1366.5,-452.65 1366.5,-443.86 1366.5,-435.3\"/>\n",
              "<polygon fill=\"black\" stroke=\"black\" points=\"1370,-435.02 1366.5,-425.02 1363,-435.02 1370,-435.02\"/>\n",
              "</g>\n",
              "<!-- 32 -->\n",
              "<g id=\"node33\" class=\"node\">\n",
              "<title>32</title>\n",
              "<polygon fill=\"#3c39e5\" stroke=\"black\" points=\"1598.5,-417.5 1458.5,-417.5 1458.5,-349.5 1598.5,-349.5 1598.5,-417.5\"/>\n",
              "<text text-anchor=\"middle\" x=\"1528.5\" y=\"-402.3\" font-family=\"Helvetica,sans-Serif\" font-size=\"14.00\">gini = 0.0</text>\n",
              "<text text-anchor=\"middle\" x=\"1528.5\" y=\"-387.3\" font-family=\"Helvetica,sans-Serif\" font-size=\"14.00\">samples = 3</text>\n",
              "<text text-anchor=\"middle\" x=\"1528.5\" y=\"-372.3\" font-family=\"Helvetica,sans-Serif\" font-size=\"14.00\">value = [0, 0, 0, 3, 0]</text>\n",
              "<text text-anchor=\"middle\" x=\"1528.5\" y=\"-357.3\" font-family=\"Helvetica,sans-Serif\" font-size=\"14.00\">class = 4</text>\n",
              "</g>\n",
              "<!-- 24&#45;&gt;32 -->\n",
              "<g id=\"edge32\" class=\"edge\">\n",
              "<title>24&#45;&gt;32</title>\n",
              "<path fill=\"none\" stroke=\"black\" d=\"M1422.71,-460.91C1439.36,-448.88 1457.56,-435.73 1474.1,-423.79\"/>\n",
              "<polygon fill=\"black\" stroke=\"black\" points=\"1476.52,-426.36 1482.58,-417.67 1472.42,-420.68 1476.52,-426.36\"/>\n",
              "</g>\n",
              "<!-- 26 -->\n",
              "<g id=\"node27\" class=\"node\">\n",
              "<title>26</title>\n",
              "<polygon fill=\"#d9f8c6\" stroke=\"black\" points=\"1436.5,-306 1296.5,-306 1296.5,-223 1436.5,-223 1436.5,-306\"/>\n",
              "<text text-anchor=\"middle\" x=\"1366.5\" y=\"-290.8\" font-family=\"Helvetica,sans-Serif\" font-size=\"14.00\">imports &lt;= 44.15</text>\n",
              "<text text-anchor=\"middle\" x=\"1366.5\" y=\"-275.8\" font-family=\"Helvetica,sans-Serif\" font-size=\"14.00\">gini = 0.562</text>\n",
              "<text text-anchor=\"middle\" x=\"1366.5\" y=\"-260.8\" font-family=\"Helvetica,sans-Serif\" font-size=\"14.00\">samples = 11</text>\n",
              "<text text-anchor=\"middle\" x=\"1366.5\" y=\"-245.8\" font-family=\"Helvetica,sans-Serif\" font-size=\"14.00\">value = [1, 6, 0, 0, 4]</text>\n",
              "<text text-anchor=\"middle\" x=\"1366.5\" y=\"-230.8\" font-family=\"Helvetica,sans-Serif\" font-size=\"14.00\">class = 2</text>\n",
              "</g>\n",
              "<!-- 25&#45;&gt;26 -->\n",
              "<g id=\"edge26\" class=\"edge\">\n",
              "<title>25&#45;&gt;26</title>\n",
              "<path fill=\"none\" stroke=\"black\" d=\"M1366.5,-341.91C1366.5,-333.65 1366.5,-324.86 1366.5,-316.3\"/>\n",
              "<polygon fill=\"black\" stroke=\"black\" points=\"1370,-316.02 1366.5,-306.02 1363,-316.02 1370,-316.02\"/>\n",
              "</g>\n",
              "<!-- 31 -->\n",
              "<g id=\"node32\" class=\"node\">\n",
              "<title>31</title>\n",
              "<polygon fill=\"#7be539\" stroke=\"black\" points=\"1602,-298.5 1455,-298.5 1455,-230.5 1602,-230.5 1602,-298.5\"/>\n",
              "<text text-anchor=\"middle\" x=\"1528.5\" y=\"-283.3\" font-family=\"Helvetica,sans-Serif\" font-size=\"14.00\">gini = 0.0</text>\n",
              "<text text-anchor=\"middle\" x=\"1528.5\" y=\"-268.3\" font-family=\"Helvetica,sans-Serif\" font-size=\"14.00\">samples = 25</text>\n",
              "<text text-anchor=\"middle\" x=\"1528.5\" y=\"-253.3\" font-family=\"Helvetica,sans-Serif\" font-size=\"14.00\">value = [0, 25, 0, 0, 0]</text>\n",
              "<text text-anchor=\"middle\" x=\"1528.5\" y=\"-238.3\" font-family=\"Helvetica,sans-Serif\" font-size=\"14.00\">class = 2</text>\n",
              "</g>\n",
              "<!-- 25&#45;&gt;31 -->\n",
              "<g id=\"edge31\" class=\"edge\">\n",
              "<title>25&#45;&gt;31</title>\n",
              "<path fill=\"none\" stroke=\"black\" d=\"M1422.71,-341.91C1439.36,-329.88 1457.56,-316.73 1474.1,-304.79\"/>\n",
              "<polygon fill=\"black\" stroke=\"black\" points=\"1476.52,-307.36 1482.58,-298.67 1472.42,-301.68 1476.52,-307.36\"/>\n",
              "</g>\n",
              "<!-- 27 -->\n",
              "<g id=\"node28\" class=\"node\">\n",
              "<title>27</title>\n",
              "<polygon fill=\"#7be539\" stroke=\"black\" points=\"1436.5,-179.5 1296.5,-179.5 1296.5,-111.5 1436.5,-111.5 1436.5,-179.5\"/>\n",
              "<text text-anchor=\"middle\" x=\"1366.5\" y=\"-164.3\" font-family=\"Helvetica,sans-Serif\" font-size=\"14.00\">gini = 0.0</text>\n",
              "<text text-anchor=\"middle\" x=\"1366.5\" y=\"-149.3\" font-family=\"Helvetica,sans-Serif\" font-size=\"14.00\">samples = 6</text>\n",
              "<text text-anchor=\"middle\" x=\"1366.5\" y=\"-134.3\" font-family=\"Helvetica,sans-Serif\" font-size=\"14.00\">value = [0, 6, 0, 0, 0]</text>\n",
              "<text text-anchor=\"middle\" x=\"1366.5\" y=\"-119.3\" font-family=\"Helvetica,sans-Serif\" font-size=\"14.00\">class = 2</text>\n",
              "</g>\n",
              "<!-- 26&#45;&gt;27 -->\n",
              "<g id=\"edge27\" class=\"edge\">\n",
              "<title>26&#45;&gt;27</title>\n",
              "<path fill=\"none\" stroke=\"black\" d=\"M1366.5,-222.91C1366.5,-212.2 1366.5,-200.62 1366.5,-189.78\"/>\n",
              "<polygon fill=\"black\" stroke=\"black\" points=\"1370,-189.67 1366.5,-179.67 1363,-189.67 1370,-189.67\"/>\n",
              "</g>\n",
              "<!-- 28 -->\n",
              "<g id=\"node29\" class=\"node\">\n",
              "<title>28</title>\n",
              "<polygon fill=\"#ec6ad0\" stroke=\"black\" points=\"1594.5,-187 1454.5,-187 1454.5,-104 1594.5,-104 1594.5,-187\"/>\n",
              "<text text-anchor=\"middle\" x=\"1524.5\" y=\"-171.8\" font-family=\"Helvetica,sans-Serif\" font-size=\"14.00\">gdpp &lt;= 18450.0</text>\n",
              "<text text-anchor=\"middle\" x=\"1524.5\" y=\"-156.8\" font-family=\"Helvetica,sans-Serif\" font-size=\"14.00\">gini = 0.32</text>\n",
              "<text text-anchor=\"middle\" x=\"1524.5\" y=\"-141.8\" font-family=\"Helvetica,sans-Serif\" font-size=\"14.00\">samples = 5</text>\n",
              "<text text-anchor=\"middle\" x=\"1524.5\" y=\"-126.8\" font-family=\"Helvetica,sans-Serif\" font-size=\"14.00\">value = [1, 0, 0, 0, 4]</text>\n",
              "<text text-anchor=\"middle\" x=\"1524.5\" y=\"-111.8\" font-family=\"Helvetica,sans-Serif\" font-size=\"14.00\">class = 5</text>\n",
              "</g>\n",
              "<!-- 26&#45;&gt;28 -->\n",
              "<g id=\"edge28\" class=\"edge\">\n",
              "<title>26&#45;&gt;28</title>\n",
              "<path fill=\"none\" stroke=\"black\" d=\"M1421.32,-222.91C1434.31,-213.29 1448.26,-202.95 1461.58,-193.09\"/>\n",
              "<polygon fill=\"black\" stroke=\"black\" points=\"1463.83,-195.78 1469.78,-187.02 1459.66,-190.16 1463.83,-195.78\"/>\n",
              "</g>\n",
              "<!-- 29 -->\n",
              "<g id=\"node30\" class=\"node\">\n",
              "<title>29</title>\n",
              "<polygon fill=\"#e58139\" stroke=\"black\" points=\"1515.5,-68 1375.5,-68 1375.5,0 1515.5,0 1515.5,-68\"/>\n",
              "<text text-anchor=\"middle\" x=\"1445.5\" y=\"-52.8\" font-family=\"Helvetica,sans-Serif\" font-size=\"14.00\">gini = 0.0</text>\n",
              "<text text-anchor=\"middle\" x=\"1445.5\" y=\"-37.8\" font-family=\"Helvetica,sans-Serif\" font-size=\"14.00\">samples = 1</text>\n",
              "<text text-anchor=\"middle\" x=\"1445.5\" y=\"-22.8\" font-family=\"Helvetica,sans-Serif\" font-size=\"14.00\">value = [1, 0, 0, 0, 0]</text>\n",
              "<text text-anchor=\"middle\" x=\"1445.5\" y=\"-7.8\" font-family=\"Helvetica,sans-Serif\" font-size=\"14.00\">class = 1</text>\n",
              "</g>\n",
              "<!-- 28&#45;&gt;29 -->\n",
              "<g id=\"edge29\" class=\"edge\">\n",
              "<title>28&#45;&gt;29</title>\n",
              "<path fill=\"none\" stroke=\"black\" d=\"M1495.08,-103.73C1488.7,-94.88 1481.94,-85.51 1475.53,-76.63\"/>\n",
              "<polygon fill=\"black\" stroke=\"black\" points=\"1478.21,-74.36 1469.52,-68.3 1472.54,-78.46 1478.21,-74.36\"/>\n",
              "</g>\n",
              "<!-- 30 -->\n",
              "<g id=\"node31\" class=\"node\">\n",
              "<title>30</title>\n",
              "<polygon fill=\"#e539c0\" stroke=\"black\" points=\"1673.5,-68 1533.5,-68 1533.5,0 1673.5,0 1673.5,-68\"/>\n",
              "<text text-anchor=\"middle\" x=\"1603.5\" y=\"-52.8\" font-family=\"Helvetica,sans-Serif\" font-size=\"14.00\">gini = 0.0</text>\n",
              "<text text-anchor=\"middle\" x=\"1603.5\" y=\"-37.8\" font-family=\"Helvetica,sans-Serif\" font-size=\"14.00\">samples = 4</text>\n",
              "<text text-anchor=\"middle\" x=\"1603.5\" y=\"-22.8\" font-family=\"Helvetica,sans-Serif\" font-size=\"14.00\">value = [0, 0, 0, 0, 4]</text>\n",
              "<text text-anchor=\"middle\" x=\"1603.5\" y=\"-7.8\" font-family=\"Helvetica,sans-Serif\" font-size=\"14.00\">class = 5</text>\n",
              "</g>\n",
              "<!-- 28&#45;&gt;30 -->\n",
              "<g id=\"edge30\" class=\"edge\">\n",
              "<title>28&#45;&gt;30</title>\n",
              "<path fill=\"none\" stroke=\"black\" d=\"M1553.92,-103.73C1560.3,-94.88 1567.06,-85.51 1573.47,-76.63\"/>\n",
              "<polygon fill=\"black\" stroke=\"black\" points=\"1576.46,-78.46 1579.48,-68.3 1570.79,-74.36 1576.46,-78.46\"/>\n",
              "</g>\n",
              "</g>\n",
              "</svg>\n"
            ],
            "text/plain": [
              "<graphviz.sources.Source at 0x1b1c6a030>"
            ]
          },
          "execution_count": 57,
          "metadata": {},
          "output_type": "execute_result"
        }
      ],
      "source": [
        "import graphviz\n",
        "from sklearn import tree\n",
        "\n",
        "dot_tree = tree.export_graphviz(dt, feature_names = features_df.columns, \n",
        "                                class_names = [\"1\", \"2\", \"3\", \"4\", \"5\"],\n",
        "                                filled = True)\n",
        "graphviz.Source(dot_tree)\n"
      ]
    },
    {
      "cell_type": "markdown",
      "metadata": {
        "id": "zF32HvMDl_Fj"
      },
      "source": []
    },
    {
      "cell_type": "code",
      "execution_count": 49,
      "metadata": {
        "id": "mdFC94YJl_zX"
      },
      "outputs": [
        {
          "data": {
            "image/png": "[encoded data removed]",
            "text/plain": [
              "<Figure size 700x400 with 1 Axes>"
            ]
          },
          "metadata": {},
          "output_type": "display_data"
        },
        {
          "name": "stdout",
          "output_type": "stream",
          "text": [
            "Best k by silhouette: 2  (score=0.315)\n"
          ]
        }
      ],
      "source": [
        "# --- OPTIMAL k: Silhouette Elbow ----------------------------------------\n",
        "from sklearn.cluster import AgglomerativeClustering\n",
        "from sklearn.metrics import silhouette_score\n",
        "\n",
        "# Range of candidate cluster counts\n",
        "k_range = range(2, 11)     # try 2–10 clusters; adjust as you like\n",
        "sil_scores = []\n",
        "\n",
        "for k in k_range:\n",
        "    # Fit hierarchical clustering with Ward linkage (same as dendrogram)\n",
        "    labels = AgglomerativeClustering(n_clusters=k, linkage=\"ward\").fit_predict(X_scaled)\n",
        "\n",
        "    # Silhouette: +1 = dense & well‑separated, 0 = overlapping, −1 = wrong clustering\n",
        "    score = silhouette_score(X_scaled, labels)\n",
        "    sil_scores.append(score)\n",
        "\n",
        "# Plot the curve\n",
        "plt.figure(figsize=(7,4))\n",
        "plt.plot(list(k_range), sil_scores, marker=\"o\")\n",
        "plt.xticks(list(k_range))\n",
        "plt.xlabel(\"Number of Clusters (k)\")\n",
        "plt.ylabel(\"Average Silhouette Score\")\n",
        "plt.title(\"Silhouette Analysis for Agglomerative (Ward) Clustering\")\n",
        "plt.grid(True, alpha=0.3)\n",
        "plt.show()\n",
        "\n",
        "# Optional: print best k\n",
        "best_k = k_range[np.argmax(sil_scores)]\n",
        "print(f\"Best k by silhouette: {best_k}  (score={max(sil_scores):.3f})\")"
      ]
    }
  ],
  "metadata": {
    "colab": {
      "provenance": []
    },
    "kernelspec": {
      "display_name": "base",
      "language": "python",
      "name": "python3"
    },
    "language_info": {
      "codemirror_mode": {
        "name": "ipython",
        "version": 3
      },
      "file_extension": ".py",
      "mimetype": "text/x-python",
      "name": "python",
      "nbconvert_exporter": "python",
      "pygments_lexer": "ipython3",
      "version": "3.12.7"
    }
  },
  "nbformat": 4,
  "nbformat_minor": 0
}
