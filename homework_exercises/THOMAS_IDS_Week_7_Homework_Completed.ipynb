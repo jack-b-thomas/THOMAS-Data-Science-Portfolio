{
 "cells": [
  {
   "cell_type": "markdown",
   "metadata": {},
   "source": [
    "###  Data Loading and Exploration "
   ]
  },
  {
   "cell_type": "code",
   "execution_count": 3,
   "metadata": {},
   "outputs": [
    {
     "data": {
      "text/plain": [
       "{'data': array([[   8.3252    ,   41.        ,    6.98412698, ...,    2.55555556,\n",
       "           37.88      , -122.23      ],\n",
       "        [   8.3014    ,   21.        ,    6.23813708, ...,    2.10984183,\n",
       "           37.86      , -122.22      ],\n",
       "        [   7.2574    ,   52.        ,    8.28813559, ...,    2.80225989,\n",
       "           37.85      , -122.24      ],\n",
       "        ...,\n",
       "        [   1.7       ,   17.        ,    5.20554273, ...,    2.3256351 ,\n",
       "           39.43      , -121.22      ],\n",
       "        [   1.8672    ,   18.        ,    5.32951289, ...,    2.12320917,\n",
       "           39.43      , -121.32      ],\n",
       "        [   2.3886    ,   16.        ,    5.25471698, ...,    2.61698113,\n",
       "           39.37      , -121.24      ]]),\n",
       " 'target': array([4.526, 3.585, 3.521, ..., 0.923, 0.847, 0.894]),\n",
       " 'frame': None,\n",
       " 'target_names': ['MedHouseVal'],\n",
       " 'feature_names': ['MedInc',\n",
       "  'HouseAge',\n",
       "  'AveRooms',\n",
       "  'AveBedrms',\n",
       "  'Population',\n",
       "  'AveOccup',\n",
       "  'Latitude',\n",
       "  'Longitude'],\n",
       " 'DESCR': '.. _california_housing_dataset:\\n\\nCalifornia Housing dataset\\n--------------------------\\n\\n**Data Set Characteristics:**\\n\\n:Number of Instances: 20640\\n\\n:Number of Attributes: 8 numeric, predictive attributes and the target\\n\\n:Attribute Information:\\n    - MedInc        median income in block group\\n    - HouseAge      median house age in block group\\n    - AveRooms      average number of rooms per household\\n    - AveBedrms     average number of bedrooms per household\\n    - Population    block group population\\n    - AveOccup      average number of household members\\n    - Latitude      block group latitude\\n    - Longitude     block group longitude\\n\\n:Missing Attribute Values: None\\n\\nThis dataset was obtained from the StatLib repository.\\nhttps://www.dcc.fc.up.pt/~ltorgo/Regression/cal_housing.html\\n\\nThe target variable is the median house value for California districts,\\nexpressed in hundreds of thousands of dollars ($100,000).\\n\\nThis dataset was derived from the 1990 U.S. census, using one row per census\\nblock group. A block group is the smallest geographical unit for which the U.S.\\nCensus Bureau publishes sample data (a block group typically has a population\\nof 600 to 3,000 people).\\n\\nA household is a group of people residing within a home. Since the average\\nnumber of rooms and bedrooms in this dataset are provided per household, these\\ncolumns may take surprisingly large values for block groups with few households\\nand many empty houses, such as vacation resorts.\\n\\nIt can be downloaded/loaded using the\\n:func:`sklearn.datasets.fetch_california_housing` function.\\n\\n.. rubric:: References\\n\\n- Pace, R. Kelley and Ronald Barry, Sparse Spatial Autoregressions,\\n  Statistics and Probability Letters, 33 (1997) 291-297\\n'}"
      ]
     },
     "execution_count": 3,
     "metadata": {},
     "output_type": "execute_result"
    }
   ],
   "source": [
    "#Loading the Data\n",
    "import pandas as pd \n",
    "from sklearn.datasets import fetch_california_housing\n",
    "housing = fetch_california_housing()\n",
    "housing"
   ]
  },
  {
   "cell_type": "code",
   "execution_count": 4,
   "metadata": {},
   "outputs": [],
   "source": [
    "#Create a Pandas DataFrame for the features and a Series for the target variable (med_house_value). \n",
    "X = pd.DataFrame(housing.data, columns=housing.feature_names)\n",
    "y = pd.Series(housing.target, name=\"MedHouseVal\")"
   ]
  },
  {
   "cell_type": "code",
   "execution_count": 5,
   "metadata": {},
   "outputs": [
    {
     "data": {
      "text/html": [
       "<div>\n",
       "<style scoped>\n",
       "    .dataframe tbody tr th:only-of-type {\n",
       "        vertical-align: middle;\n",
       "    }\n",
       "\n",
       "    .dataframe tbody tr th {\n",
       "        vertical-align: top;\n",
       "    }\n",
       "\n",
       "    .dataframe thead th {\n",
       "        text-align: right;\n",
       "    }\n",
       "</style>\n",
       "<table border=\"1\" class=\"dataframe\">\n",
       "  <thead>\n",
       "    <tr style=\"text-align: right;\">\n",
       "      <th></th>\n",
       "      <th>MedInc</th>\n",
       "      <th>HouseAge</th>\n",
       "      <th>AveRooms</th>\n",
       "      <th>AveBedrms</th>\n",
       "      <th>Population</th>\n",
       "      <th>AveOccup</th>\n",
       "      <th>Latitude</th>\n",
       "      <th>Longitude</th>\n",
       "    </tr>\n",
       "  </thead>\n",
       "  <tbody>\n",
       "    <tr>\n",
       "      <th>0</th>\n",
       "      <td>8.3252</td>\n",
       "      <td>41.0</td>\n",
       "      <td>6.984127</td>\n",
       "      <td>1.023810</td>\n",
       "      <td>322.0</td>\n",
       "      <td>2.555556</td>\n",
       "      <td>37.88</td>\n",
       "      <td>-122.23</td>\n",
       "    </tr>\n",
       "    <tr>\n",
       "      <th>1</th>\n",
       "      <td>8.3014</td>\n",
       "      <td>21.0</td>\n",
       "      <td>6.238137</td>\n",
       "      <td>0.971880</td>\n",
       "      <td>2401.0</td>\n",
       "      <td>2.109842</td>\n",
       "      <td>37.86</td>\n",
       "      <td>-122.22</td>\n",
       "    </tr>\n",
       "    <tr>\n",
       "      <th>2</th>\n",
       "      <td>7.2574</td>\n",
       "      <td>52.0</td>\n",
       "      <td>8.288136</td>\n",
       "      <td>1.073446</td>\n",
       "      <td>496.0</td>\n",
       "      <td>2.802260</td>\n",
       "      <td>37.85</td>\n",
       "      <td>-122.24</td>\n",
       "    </tr>\n",
       "    <tr>\n",
       "      <th>3</th>\n",
       "      <td>5.6431</td>\n",
       "      <td>52.0</td>\n",
       "      <td>5.817352</td>\n",
       "      <td>1.073059</td>\n",
       "      <td>558.0</td>\n",
       "      <td>2.547945</td>\n",
       "      <td>37.85</td>\n",
       "      <td>-122.25</td>\n",
       "    </tr>\n",
       "    <tr>\n",
       "      <th>4</th>\n",
       "      <td>3.8462</td>\n",
       "      <td>52.0</td>\n",
       "      <td>6.281853</td>\n",
       "      <td>1.081081</td>\n",
       "      <td>565.0</td>\n",
       "      <td>2.181467</td>\n",
       "      <td>37.85</td>\n",
       "      <td>-122.25</td>\n",
       "    </tr>\n",
       "  </tbody>\n",
       "</table>\n",
       "</div>"
      ],
      "text/plain": [
       "   MedInc  HouseAge  AveRooms  AveBedrms  Population  AveOccup  Latitude  \\\n",
       "0  8.3252      41.0  6.984127   1.023810       322.0  2.555556     37.88   \n",
       "1  8.3014      21.0  6.238137   0.971880      2401.0  2.109842     37.86   \n",
       "2  7.2574      52.0  8.288136   1.073446       496.0  2.802260     37.85   \n",
       "3  5.6431      52.0  5.817352   1.073059       558.0  2.547945     37.85   \n",
       "4  3.8462      52.0  6.281853   1.081081       565.0  2.181467     37.85   \n",
       "\n",
       "   Longitude  \n",
       "0    -122.23  \n",
       "1    -122.22  \n",
       "2    -122.24  \n",
       "3    -122.25  \n",
       "4    -122.25  "
      ]
     },
     "execution_count": 5,
     "metadata": {},
     "output_type": "execute_result"
    }
   ],
   "source": [
    "#Display the first five rows of the dataset\n",
    "X.head()"
   ]
  },
  {
   "cell_type": "code",
   "execution_count": 6,
   "metadata": {},
   "outputs": [
    {
     "data": {
      "text/plain": [
       "MedInc        0\n",
       "HouseAge      0\n",
       "AveRooms      0\n",
       "AveBedrms     0\n",
       "Population    0\n",
       "AveOccup      0\n",
       "Latitude      0\n",
       "Longitude     0\n",
       "dtype: int64"
      ]
     },
     "execution_count": 6,
     "metadata": {},
     "output_type": "execute_result"
    }
   ],
   "source": [
    "#Print the feature names and check for missing values\n",
    "X.isnull().sum()"
   ]
  },
  {
   "cell_type": "code",
   "execution_count": 7,
   "metadata": {},
   "outputs": [
    {
     "name": "stdout",
     "output_type": "stream",
     "text": [
      "Feature Means:\n",
      "MedInc           3.870671\n",
      "HouseAge        28.639486\n",
      "AveRooms         5.429000\n",
      "AveBedrms        1.096675\n",
      "Population    1425.476744\n",
      "AveOccup         3.070655\n",
      "Latitude        35.631861\n",
      "Longitude     -119.569704\n",
      "dtype: float64\n",
      "Feature IQR and medians:\n",
      "       MedInc  HouseAge  AveRooms  AveBedrms  Population  AveOccup  Latitude  \\\n",
      "0.25  2.56340      18.0  4.440716   1.006079       787.0  2.429741     33.93   \n",
      "0.50  3.53480      29.0  5.229129   1.048780      1166.0  2.818116     34.26   \n",
      "0.75  4.74325      37.0  6.052381   1.099526      1725.0  3.282261     37.71   \n",
      "\n",
      "      Longitude  \n",
      "0.25    -121.80  \n",
      "0.50    -118.49  \n",
      "0.75    -118.01  \n",
      "Feature Maximun Values:\n",
      "MedInc           15.000100\n",
      "HouseAge         52.000000\n",
      "AveRooms        141.909091\n",
      "AveBedrms        34.066667\n",
      "Population    35682.000000\n",
      "AveOccup       1243.333333\n",
      "Latitude         41.950000\n",
      "Longitude      -114.310000\n",
      "dtype: float64\n",
      "Feature Minimum Values:\n",
      "MedInc          0.499900\n",
      "HouseAge        1.000000\n",
      "AveRooms        0.846154\n",
      "AveBedrms       0.333333\n",
      "Population      3.000000\n",
      "AveOccup        0.692308\n",
      "Latitude       32.540000\n",
      "Longitude    -124.350000\n",
      "dtype: float64\n"
     ]
    }
   ],
   "source": [
    "#Generate summary statistics (mean, min, max, etc.)\n",
    "print(\"Feature Means:\")\n",
    "print(X.mean())\n",
    "print(\"Feature IQR and medians:\")\n",
    "print(X.quantile([.25, .5,.75]))\n",
    "print(\"Feature Maximun Values:\")\n",
    "print(X.max())\n",
    "print(\"Feature Minimum Values:\")\n",
    "print(X.min())"
   ]
  },
  {
   "cell_type": "markdown",
   "metadata": {},
   "source": [
    "### Linear Regression on Unscaled Data (no feature scaling)"
   ]
  },
  {
   "cell_type": "code",
   "execution_count": 8,
   "metadata": {},
   "outputs": [],
   "source": [
    "# Splitting the data into training and test sets (80% traing, 20% testing)\n",
    "from sklearn.linear_model import LinearRegression\n",
    "from sklearn.model_selection import train_test_split\n",
    "\n",
    "X_train, X_test, y_train, y_test = train_test_split(X, y,\n",
    "                                                    test_size=0.2)"
   ]
  },
  {
   "cell_type": "code",
   "execution_count": 9,
   "metadata": {},
   "outputs": [
    {
     "data": {
      "text/plain": [
       "array([2.79903923, 2.43133763, 1.44723925, ..., 1.89745381, 1.43734959,\n",
       "       2.8823339 ])"
      ]
     },
     "execution_count": 9,
     "metadata": {},
     "output_type": "execute_result"
    }
   ],
   "source": [
    "#Training a linear regression model on the unscaled data\n",
    "lin_reg = LinearRegression()\n",
    "lin_reg.fit(X_train, y_train) \n",
    "\n",
    "#Making Predictions on the test set \n",
    "y_pred = lin_reg.predict(X_test)\n",
    "y_pred"
   ]
  },
  {
   "cell_type": "code",
   "execution_count": 15,
   "metadata": {},
   "outputs": [
    {
     "name": "stdout",
     "output_type": "stream",
     "text": [
      "Unscaled Data Model:\n",
      "Mean Squared Error:0.52\n",
      "Root Mean Squared Error: 0.72\n",
      "r^2 Score:0.62\n"
     ]
    }
   ],
   "source": [
    "#Evaluation of the model's performance (MSE, RMSE, r^2 Score)\n",
    "from sklearn.metrics import mean_squared_error, root_mean_squared_error, r2_score\n",
    "\n",
    "mse_lin = mean_squared_error(y_test, y_pred)\n",
    "rmse_lin = root_mean_squared_error(y_test, y_pred)\n",
    "r2s_lin = r2_score(y_test, y_pred)\n",
    "\n",
    "print(\"Unscaled Data Model:\")\n",
    "print(f\"Mean Squared Error:{mse_lin:.2f}\")\n",
    "print(f\"Root Mean Squared Error: {rmse_lin:.2f}\")\n",
    "print(f\"r^2 Score:{r2s_lin:.2f}\")"
   ]
  },
  {
   "cell_type": "code",
   "execution_count": 11,
   "metadata": {},
   "outputs": [
    {
     "name": "stdout",
     "output_type": "stream",
     "text": [
      "Coefficients:\n",
      "MedInc        0.429276\n",
      "HouseAge      0.009339\n",
      "AveRooms     -0.097152\n",
      "AveBedrms     0.603108\n",
      "Population   -0.000006\n",
      "AveOccup     -0.003406\n",
      "Latitude     -0.428141\n",
      "Longitude    -0.439009\n",
      "dtype: float64\n",
      "Intercept:\n",
      "0   -37.2136\n",
      "dtype: float64\n"
     ]
    }
   ],
   "source": [
    "#Model Coefficients: \n",
    "coef_series = pd.Series(lin_reg.coef_, index = X.columns)\n",
    "intercept = pd.Series(lin_reg.intercept_)\n",
    "print(\"Coefficients:\")\n",
    "print(coef_series)\n",
    "print(\"Intercept:\")\n",
    "print(intercept)"
   ]
  },
  {
   "cell_type": "markdown",
   "metadata": {},
   "source": [
    "####  Interpretation of Results: \n",
    "- The model's r^2 score is 0.60, meaning that the model explains 60% of the variance in the data. That is to say, 40% of the variance in housing median house value is not because of these features. The model's RMSE is 0.74 meaning average error of the model is +/- $74,000, since the model is in units of $100,000. While this number may be high for home buyers, it is a relativley low RMSE relative to the data and its units. Given the RMSE and the r^2 value, the model is moderately accurate. \n",
    "- The feature with the greatest impact on the prediction is longitude. While there coefficients are not the highest (Average Bedrooms), the longitude variable has observations in the 100s. Thus, when longitude is multiplied by the coefficient, it has the largest effect on the prediction. \n",
    "- As mentioned the predicted are off by an average of $74,000, which is decent for the model, given the units. This number is probably too large for homebuyers to use it as a realiable predictor, however. "
   ]
  },
  {
   "cell_type": "markdown",
   "metadata": {},
   "source": [
    "### Doing a linear regression with Scaled Data "
   ]
  },
  {
   "cell_type": "code",
   "execution_count": 12,
   "metadata": {},
   "outputs": [
    {
     "data": {
      "text/html": [
       "<div>\n",
       "<style scoped>\n",
       "    .dataframe tbody tr th:only-of-type {\n",
       "        vertical-align: middle;\n",
       "    }\n",
       "\n",
       "    .dataframe tbody tr th {\n",
       "        vertical-align: top;\n",
       "    }\n",
       "\n",
       "    .dataframe thead th {\n",
       "        text-align: right;\n",
       "    }\n",
       "</style>\n",
       "<table border=\"1\" class=\"dataframe\">\n",
       "  <thead>\n",
       "    <tr style=\"text-align: right;\">\n",
       "      <th></th>\n",
       "      <th>MedInc</th>\n",
       "      <th>HouseAge</th>\n",
       "      <th>AveRooms</th>\n",
       "      <th>AveBedrms</th>\n",
       "      <th>Population</th>\n",
       "      <th>AveOccup</th>\n",
       "      <th>Latitude</th>\n",
       "      <th>Longitude</th>\n",
       "    </tr>\n",
       "  </thead>\n",
       "  <tbody>\n",
       "    <tr>\n",
       "      <th>0</th>\n",
       "      <td>2.344766</td>\n",
       "      <td>0.982143</td>\n",
       "      <td>0.628559</td>\n",
       "      <td>-0.153758</td>\n",
       "      <td>-0.974429</td>\n",
       "      <td>-0.049597</td>\n",
       "      <td>1.052548</td>\n",
       "      <td>-1.327835</td>\n",
       "    </tr>\n",
       "    <tr>\n",
       "      <th>1</th>\n",
       "      <td>2.332238</td>\n",
       "      <td>-0.607019</td>\n",
       "      <td>0.327041</td>\n",
       "      <td>-0.263336</td>\n",
       "      <td>0.861439</td>\n",
       "      <td>-0.092512</td>\n",
       "      <td>1.043185</td>\n",
       "      <td>-1.322844</td>\n",
       "    </tr>\n",
       "    <tr>\n",
       "      <th>2</th>\n",
       "      <td>1.782699</td>\n",
       "      <td>1.856182</td>\n",
       "      <td>1.155620</td>\n",
       "      <td>-0.049016</td>\n",
       "      <td>-0.820777</td>\n",
       "      <td>-0.025843</td>\n",
       "      <td>1.038503</td>\n",
       "      <td>-1.332827</td>\n",
       "    </tr>\n",
       "    <tr>\n",
       "      <th>3</th>\n",
       "      <td>0.932968</td>\n",
       "      <td>1.856182</td>\n",
       "      <td>0.156966</td>\n",
       "      <td>-0.049833</td>\n",
       "      <td>-0.766028</td>\n",
       "      <td>-0.050329</td>\n",
       "      <td>1.038503</td>\n",
       "      <td>-1.337818</td>\n",
       "    </tr>\n",
       "    <tr>\n",
       "      <th>4</th>\n",
       "      <td>-0.012881</td>\n",
       "      <td>1.856182</td>\n",
       "      <td>0.344711</td>\n",
       "      <td>-0.032906</td>\n",
       "      <td>-0.759847</td>\n",
       "      <td>-0.085616</td>\n",
       "      <td>1.038503</td>\n",
       "      <td>-1.337818</td>\n",
       "    </tr>\n",
       "  </tbody>\n",
       "</table>\n",
       "</div>"
      ],
      "text/plain": [
       "     MedInc  HouseAge  AveRooms  AveBedrms  Population  AveOccup  Latitude  \\\n",
       "0  2.344766  0.982143  0.628559  -0.153758   -0.974429 -0.049597  1.052548   \n",
       "1  2.332238 -0.607019  0.327041  -0.263336    0.861439 -0.092512  1.043185   \n",
       "2  1.782699  1.856182  1.155620  -0.049016   -0.820777 -0.025843  1.038503   \n",
       "3  0.932968  1.856182  0.156966  -0.049833   -0.766028 -0.050329  1.038503   \n",
       "4 -0.012881  1.856182  0.344711  -0.032906   -0.759847 -0.085616  1.038503   \n",
       "\n",
       "   Longitude  \n",
       "0  -1.327835  \n",
       "1  -1.322844  \n",
       "2  -1.332827  \n",
       "3  -1.337818  \n",
       "4  -1.337818  "
      ]
     },
     "execution_count": 12,
     "metadata": {},
     "output_type": "execute_result"
    }
   ],
   "source": [
    "from sklearn.preprocessing import StandardScaler\n",
    "# initalize the scaler and apply it ot the features \n",
    "scaler =  StandardScaler()\n",
    "X_scaled = scaler.fit_transform(X)\n",
    "X_scaled_df = pd.DataFrame(X_scaled, columns=X.columns)\n",
    "X_scaled_df.head()"
   ]
  },
  {
   "cell_type": "code",
   "execution_count": 13,
   "metadata": {},
   "outputs": [
    {
     "data": {
      "text/plain": [
       "array([0.71912284, 1.76401657, 2.70965883, ..., 4.46877017, 1.18751119,\n",
       "       2.00940251])"
      ]
     },
     "execution_count": 13,
     "metadata": {},
     "output_type": "execute_result"
    }
   ],
   "source": [
    "#Split the scaled data \n",
    "X_train_scaled, X_test_scaled, y_train_scaled, y_test_scaled = train_test_split(X_scaled_df, y, test_size=0.2, random_state=42)\n",
    "#Fit the scaled data \n",
    "lin_reg_scaled = LinearRegression()\n",
    "lin_reg_scaled.fit(X_train_scaled, y_train_scaled)\n",
    "#Make predictions \n",
    "y_pred_scaled = lin_reg_scaled.predict(X_test_scaled)\n",
    "y_pred_scaled"
   ]
  },
  {
   "cell_type": "code",
   "execution_count": 14,
   "metadata": {},
   "outputs": [
    {
     "name": "stdout",
     "output_type": "stream",
     "text": [
      "Scaled Data Model:\n",
      "Mean Squared Error:0.56\n",
      "Root Mean Squared Error: 0.75\n",
      "R Squared Score:0.58\n",
      "Scaled Coefficients:\n",
      "MedInc        0.852382\n",
      "HouseAge      0.122382\n",
      "AveRooms     -0.305116\n",
      "AveBedrms     0.371132\n",
      "Population   -0.002298\n",
      "AveOccup     -0.036624\n",
      "Latitude     -0.896635\n",
      "Longitude    -0.868927\n",
      "dtype: float64\n",
      "Scaled Intercept:\n",
      "0    2.067862\n",
      "dtype: float64\n"
     ]
    }
   ],
   "source": [
    "# Evaluate the scaled model performance\n",
    "mse_lin_scaled = mean_squared_error(y_test_scaled, y_pred_scaled)\n",
    "rmse_lin_scaled = root_mean_squared_error(y_test_scaled, y_pred_scaled)\n",
    "r2s_lin_scaled = r2_score(y_test_scaled, y_pred_scaled)\n",
    "\n",
    "print(\"Scaled Data Model:\")\n",
    "print(f\"Mean Squared Error:{mse_lin_scaled:.2f}\")\n",
    "print(f\"Root Mean Squared Error: {rmse_lin_scaled:.2f}\")\n",
    "print(f\"R Squared Score:{r2s_lin_scaled:.2f}\")\n",
    "\n",
    "\n",
    "# View our scaled model's coefficients\n",
    "coef_series_scaled = pd.Series(lin_reg_scaled.coef_, index = X.columns)\n",
    "intercept_scaled = pd.Series(lin_reg_scaled.intercept_)\n",
    "print(\"Scaled Coefficients:\")\n",
    "print(coef_series_scaled)\n",
    "print(\"Scaled Intercept:\")\n",
    "print(intercept_scaled)"
   ]
  },
  {
   "cell_type": "markdown",
   "metadata": {},
   "source": [
    "### Feature Selection and Simplified Model\n",
    "- I will select longitude and latitude because I believe that they are the features with the largest effect on the predicted outcome (location! location! location!). For my third variable I will select MedInc because it also has a large effect on the prediction.  "
   ]
  },
  {
   "cell_type": "code",
   "execution_count": 20,
   "metadata": {},
   "outputs": [
    {
     "data": {
      "text/html": [
       "<div>\n",
       "<style scoped>\n",
       "    .dataframe tbody tr th:only-of-type {\n",
       "        vertical-align: middle;\n",
       "    }\n",
       "\n",
       "    .dataframe tbody tr th {\n",
       "        vertical-align: top;\n",
       "    }\n",
       "\n",
       "    .dataframe thead th {\n",
       "        text-align: right;\n",
       "    }\n",
       "</style>\n",
       "<table border=\"1\" class=\"dataframe\">\n",
       "  <thead>\n",
       "    <tr style=\"text-align: right;\">\n",
       "      <th></th>\n",
       "      <th>MedInc</th>\n",
       "      <th>Latitude</th>\n",
       "      <th>Longitude</th>\n",
       "    </tr>\n",
       "  </thead>\n",
       "  <tbody>\n",
       "    <tr>\n",
       "      <th>0</th>\n",
       "      <td>8.3252</td>\n",
       "      <td>37.88</td>\n",
       "      <td>-122.23</td>\n",
       "    </tr>\n",
       "    <tr>\n",
       "      <th>1</th>\n",
       "      <td>8.3014</td>\n",
       "      <td>37.86</td>\n",
       "      <td>-122.22</td>\n",
       "    </tr>\n",
       "    <tr>\n",
       "      <th>2</th>\n",
       "      <td>7.2574</td>\n",
       "      <td>37.85</td>\n",
       "      <td>-122.24</td>\n",
       "    </tr>\n",
       "    <tr>\n",
       "      <th>3</th>\n",
       "      <td>5.6431</td>\n",
       "      <td>37.85</td>\n",
       "      <td>-122.25</td>\n",
       "    </tr>\n",
       "    <tr>\n",
       "      <th>4</th>\n",
       "      <td>3.8462</td>\n",
       "      <td>37.85</td>\n",
       "      <td>-122.25</td>\n",
       "    </tr>\n",
       "  </tbody>\n",
       "</table>\n",
       "</div>"
      ],
      "text/plain": [
       "   MedInc  Latitude  Longitude\n",
       "0  8.3252     37.88    -122.23\n",
       "1  8.3014     37.86    -122.22\n",
       "2  7.2574     37.85    -122.24\n",
       "3  5.6431     37.85    -122.25\n",
       "4  3.8462     37.85    -122.25"
      ]
     },
     "execution_count": 20,
     "metadata": {},
     "output_type": "execute_result"
    }
   ],
   "source": [
    "# Training the new linear regression model\n",
    "simple_feature_vars = [\"MedInc\", \"Latitude\", \"Longitude\",]\n",
    "simple_X= pd.DataFrame(X[simple_feature_vars])\n",
    "simple_y = pd.Series(housing.target, name=\"MedHouseVal\")\n",
    "simple_X.head()"
   ]
  },
  {
   "cell_type": "code",
   "execution_count": 21,
   "metadata": {},
   "outputs": [],
   "source": [
    "#Training the simple model\n",
    "simple_X_train, simple_X_test, simple_y_train, simple_y_test = train_test_split(simple_X, simple_y,\n",
    "                                                                                test_size=0.2)"
   ]
  },
  {
   "cell_type": "code",
   "execution_count": 22,
   "metadata": {},
   "outputs": [
    {
     "data": {
      "text/plain": [
       "array([1.10232228, 1.85048795, 2.32522914, ..., 1.81244912, 0.74328245,\n",
       "       2.94467185])"
      ]
     },
     "execution_count": 22,
     "metadata": {},
     "output_type": "execute_result"
    }
   ],
   "source": [
    "#Training a new linear regression model on the unscaled data\n",
    "simple_lin_reg = LinearRegression()\n",
    "simple_lin_reg.fit(simple_X_train, simple_y_train) \n",
    "\n",
    "#Making Predictions on the test set with the new simple model  \n",
    "simple_y_pred = simple_lin_reg.predict(simple_X_test)\n",
    "simple_y_pred"
   ]
  },
  {
   "cell_type": "code",
   "execution_count": 23,
   "metadata": {},
   "outputs": [
    {
     "name": "stdout",
     "output_type": "stream",
     "text": [
      "Unscaled Data Model using only three features:\n",
      "Mean Squared Error of the Simple Model:0.53\n",
      "Root Mean Squared Error of the Simple Model: 0.73\n",
      "r^2 Score of the Simple Model:0.59\n"
     ]
    }
   ],
   "source": [
    "#Evaluating the simple model's performance\n",
    "simple_mse_lin = mean_squared_error(simple_y_test, simple_y_pred)\n",
    "simple_rmse_lin = root_mean_squared_error(simple_y_test, simple_y_pred)\n",
    "simple_r2s_lin = r2_score(simple_y_test,simple_y_pred)\n",
    "\n",
    "print(\"Unscaled Data Model using only three features:\")\n",
    "print(f\"Mean Squared Error of the Simple Model:{simple_mse_lin:.2f}\")\n",
    "print(f\"Root Mean Squared Error of the Simple Model: {simple_rmse_lin:.2f}\")\n",
    "print(f\"r^2 Score of the Simple Model:{simple_r2s_lin:.2f}\")"
   ]
  },
  {
   "cell_type": "markdown",
   "metadata": {},
   "source": [
    "#### Evaluation and Interpretation of the simplified Model\n",
    "- The Statistics of the simplified model were very close. The MSE and RMSE of the simplified model were slightly lower than the old model. The r^2 score of the simplified model was the same as the old model, meaning that both models explain the same proportion of variance in the data, despite the old model having 5 additional features. Thus, one can conclude that the other features do not have a significant effect on the model's predictions \n",
    "- Since the models have the same r^2 values, and the MSE and RMSE values are slightly smaller, I would use the new, simplified model. I believe that it is good to go for simplicity when one can, especially when dealing with increasingly large datasets. "
   ]
  }
 ],
 "metadata": {
  "kernelspec": {
   "display_name": "base",
   "language": "python",
   "name": "python3"
  },
  "language_info": {
   "codemirror_mode": {
    "name": "ipython",
    "version": 3
   },
   "file_extension": ".py",
   "mimetype": "text/x-python",
   "name": "python",
   "nbconvert_exporter": "python",
   "pygments_lexer": "ipython3",
   "version": "3.12.7"
  }
 },
 "nbformat": 4,
 "nbformat_minor": 2
}
